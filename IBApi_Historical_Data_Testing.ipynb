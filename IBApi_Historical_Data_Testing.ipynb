{
  "nbformat": 4,
  "nbformat_minor": 0,
  "metadata": {
    "colab": {
      "name": "IBApi_Historical_Data_Testing.ipynb",
      "provenance": [],
      "mount_file_id": "1HNf8dRV7N4CYxtEmBQbdDcpZnlQS5C63",
      "authorship_tag": "ABX9TyOT513GWcF50JBCOcMfm/M3",
      "include_colab_link": true
    },
    "kernelspec": {
      "name": "python3",
      "display_name": "Python 3"
    }
  },
  "cells": [
    {
      "cell_type": "markdown",
      "metadata": {
        "id": "view-in-github",
        "colab_type": "text"
      },
      "source": [
        "<a href=\"https://colab.research.google.com/github/hublun/TWSApi/blob/master/IBApi_Historical_Data_Testing.ipynb\" target=\"_parent\"><img src=\"https://colab.research.google.com/assets/colab-badge.svg\" alt=\"Open In Colab\"/></a>"
      ]
    },
    {
      "cell_type": "code",
      "metadata": {
        "id": "79ywrl69KOm_"
      },
      "source": [
        "import pandas as pd\n",
        "import scipy.stats as stat\n",
        "import matplotlib.pyplot as plt\n",
        "import seaborn as sns"
      ],
      "execution_count": null,
      "outputs": []
    },
    {
      "cell_type": "code",
      "metadata": {
        "id": "2KuUAXyYKy4B"
      },
      "source": [
        "df = pd.read_pickle('/content/drive/MyDrive/TWS/M2K_20201115_to_20201120163500.pkl')"
      ],
      "execution_count": null,
      "outputs": []
    },
    {
      "cell_type": "code",
      "metadata": {
        "id": "9vKyTZux14xO"
      },
      "source": [
        "df[\"Time\"] = pd.to_datetime(df[\"time\"], format='%Y%m%d  %H:%M:%S', yearfirst=True)"
      ],
      "execution_count": null,
      "outputs": []
    },
    {
      "cell_type": "code",
      "metadata": {
        "id": "XXrTwQWc8lVU"
      },
      "source": [
        "df.drop('time', axis=1, inplace=True)"
      ],
      "execution_count": null,
      "outputs": []
    },
    {
      "cell_type": "code",
      "metadata": {
        "id": "PLOiWyXp_PHU"
      },
      "source": [
        "df[\"Hour\"] = pd.DatetimeIndex(df[\"Time\"]).hour\n",
        "df[\"Minute\"] = pd.DatetimeIndex(df[\"Time\"]).minute\n",
        "df[\"Second\"] = pd.DatetimeIndex(df[\"Time\"]).second\n",
        "df[\"Day\"] = pd.DatetimeIndex(df[\"Time\"]).day"
      ],
      "execution_count": null,
      "outputs": []
    },
    {
      "cell_type": "code",
      "metadata": {
        "colab": {
          "base_uri": "https://localhost:8080/"
        },
        "id": "8PNB5h5MFbZQ",
        "outputId": "ebe13b76-439f-41a4-de41-58fd9dce0016"
      },
      "source": [
        "initialDateTime = df.Time[0]\n",
        "initialDateTime"
      ],
      "execution_count": null,
      "outputs": [
        {
          "output_type": "execute_result",
          "data": {
            "text/plain": [
              "Timestamp('2020-11-15 18:00:00')"
            ]
          },
          "metadata": {
            "tags": []
          },
          "execution_count": 351
        }
      ]
    },
    {
      "cell_type": "code",
      "metadata": {
        "id": "QWUTHn8JFrJs"
      },
      "source": [
        "df[\"TradeDay\"] = pd.TimedeltaIndex(df.Time - initialDateTime).days"
      ],
      "execution_count": null,
      "outputs": []
    },
    {
      "cell_type": "code",
      "metadata": {
        "id": "9OJMRUnYyaBn",
        "colab": {
          "base_uri": "https://localhost:8080/",
          "height": 204
        },
        "outputId": "42a79833-e26d-4828-ab28-7d5e95115477"
      },
      "source": [
        "df.head()"
      ],
      "execution_count": null,
      "outputs": [
        {
          "output_type": "execute_result",
          "data": {
            "text/html": [
              "<div>\n",
              "<style scoped>\n",
              "    .dataframe tbody tr th:only-of-type {\n",
              "        vertical-align: middle;\n",
              "    }\n",
              "\n",
              "    .dataframe tbody tr th {\n",
              "        vertical-align: top;\n",
              "    }\n",
              "\n",
              "    .dataframe thead th {\n",
              "        text-align: right;\n",
              "    }\n",
              "</style>\n",
              "<table border=\"1\" class=\"dataframe\">\n",
              "  <thead>\n",
              "    <tr style=\"text-align: right;\">\n",
              "      <th></th>\n",
              "      <th>open</th>\n",
              "      <th>high</th>\n",
              "      <th>low</th>\n",
              "      <th>close</th>\n",
              "      <th>avg</th>\n",
              "      <th>vol</th>\n",
              "      <th>Time</th>\n",
              "      <th>Hour</th>\n",
              "      <th>Minute</th>\n",
              "      <th>Second</th>\n",
              "      <th>Day</th>\n",
              "      <th>TradeDay</th>\n",
              "    </tr>\n",
              "  </thead>\n",
              "  <tbody>\n",
              "    <tr>\n",
              "      <th>0</th>\n",
              "      <td>1747.9</td>\n",
              "      <td>1750.0</td>\n",
              "      <td>1745.0</td>\n",
              "      <td>1745.9</td>\n",
              "      <td>1747.97</td>\n",
              "      <td>44</td>\n",
              "      <td>2020-11-15 18:00:00</td>\n",
              "      <td>18</td>\n",
              "      <td>0</td>\n",
              "      <td>0</td>\n",
              "      <td>15</td>\n",
              "      <td>0</td>\n",
              "    </tr>\n",
              "    <tr>\n",
              "      <th>1</th>\n",
              "      <td>1748.8</td>\n",
              "      <td>1749.5</td>\n",
              "      <td>1748.8</td>\n",
              "      <td>1749.2</td>\n",
              "      <td>1749.17</td>\n",
              "      <td>3</td>\n",
              "      <td>2020-11-15 18:00:05</td>\n",
              "      <td>18</td>\n",
              "      <td>0</td>\n",
              "      <td>5</td>\n",
              "      <td>15</td>\n",
              "      <td>0</td>\n",
              "    </tr>\n",
              "    <tr>\n",
              "      <th>2</th>\n",
              "      <td>1749.1</td>\n",
              "      <td>1749.1</td>\n",
              "      <td>1747.2</td>\n",
              "      <td>1747.2</td>\n",
              "      <td>1748.68</td>\n",
              "      <td>18</td>\n",
              "      <td>2020-11-15 18:00:10</td>\n",
              "      <td>18</td>\n",
              "      <td>0</td>\n",
              "      <td>10</td>\n",
              "      <td>15</td>\n",
              "      <td>0</td>\n",
              "    </tr>\n",
              "    <tr>\n",
              "      <th>3</th>\n",
              "      <td>1748.5</td>\n",
              "      <td>1748.9</td>\n",
              "      <td>1748.5</td>\n",
              "      <td>1748.9</td>\n",
              "      <td>1748.63</td>\n",
              "      <td>3</td>\n",
              "      <td>2020-11-15 18:00:15</td>\n",
              "      <td>18</td>\n",
              "      <td>0</td>\n",
              "      <td>15</td>\n",
              "      <td>15</td>\n",
              "      <td>0</td>\n",
              "    </tr>\n",
              "    <tr>\n",
              "      <th>4</th>\n",
              "      <td>1749.0</td>\n",
              "      <td>1749.5</td>\n",
              "      <td>1748.6</td>\n",
              "      <td>1749.5</td>\n",
              "      <td>1749.23</td>\n",
              "      <td>9</td>\n",
              "      <td>2020-11-15 18:00:20</td>\n",
              "      <td>18</td>\n",
              "      <td>0</td>\n",
              "      <td>20</td>\n",
              "      <td>15</td>\n",
              "      <td>0</td>\n",
              "    </tr>\n",
              "  </tbody>\n",
              "</table>\n",
              "</div>"
            ],
            "text/plain": [
              "     open    high     low   close      avg  ...  Hour Minute  Second  Day  TradeDay\n",
              "0  1747.9  1750.0  1745.0  1745.9  1747.97  ...    18      0       0   15         0\n",
              "1  1748.8  1749.5  1748.8  1749.2  1749.17  ...    18      0       5   15         0\n",
              "2  1749.1  1749.1  1747.2  1747.2  1748.68  ...    18      0      10   15         0\n",
              "3  1748.5  1748.9  1748.5  1748.9  1748.63  ...    18      0      15   15         0\n",
              "4  1749.0  1749.5  1748.6  1749.5  1749.23  ...    18      0      20   15         0\n",
              "\n",
              "[5 rows x 12 columns]"
            ]
          },
          "metadata": {
            "tags": []
          },
          "execution_count": 353
        }
      ]
    },
    {
      "cell_type": "code",
      "metadata": {
        "id": "4GM4Og6c-81v"
      },
      "source": [
        "df[\"mu10min\"] = df.avg.rolling(window=120, min_periods=1).mean()\n",
        "\n",
        "df[\"mu5min\"] = df.avg.rolling(window=60, min_periods=1).mean()\n",
        "df[\"mu2min\"] = df.avg.rolling(window=24, min_periods=1).mean()\n",
        "df[\"mumin\"] = df.avg.rolling(window=12, min_periods=1).mean()\n",
        "df[\"dev\"] = df.close - df.open\n",
        "\n",
        "df[\"delta1m\"] = df.avg - df.mumin\n",
        "df[\"delta2m\"] = df.avg - df.mu2min\n",
        "\n",
        "df[\"delta5m\"] = df.avg - df.mu5min\n",
        "df[\"delta10m\"] = df.avg - df.mu10min\n",
        " "
      ],
      "execution_count": null,
      "outputs": []
    },
    {
      "cell_type": "code",
      "metadata": {
        "id": "RimX3lQE_PoH",
        "colab": {
          "base_uri": "https://localhost:8080/",
          "height": 204
        },
        "outputId": "3ea8d677-d7e3-47f6-a355-38e4bcd81544"
      },
      "source": [
        "df.head()"
      ],
      "execution_count": null,
      "outputs": [
        {
          "output_type": "execute_result",
          "data": {
            "text/html": [
              "<div>\n",
              "<style scoped>\n",
              "    .dataframe tbody tr th:only-of-type {\n",
              "        vertical-align: middle;\n",
              "    }\n",
              "\n",
              "    .dataframe tbody tr th {\n",
              "        vertical-align: top;\n",
              "    }\n",
              "\n",
              "    .dataframe thead th {\n",
              "        text-align: right;\n",
              "    }\n",
              "</style>\n",
              "<table border=\"1\" class=\"dataframe\">\n",
              "  <thead>\n",
              "    <tr style=\"text-align: right;\">\n",
              "      <th></th>\n",
              "      <th>open</th>\n",
              "      <th>high</th>\n",
              "      <th>low</th>\n",
              "      <th>close</th>\n",
              "      <th>avg</th>\n",
              "      <th>vol</th>\n",
              "      <th>Time</th>\n",
              "      <th>Hour</th>\n",
              "      <th>Minute</th>\n",
              "      <th>Second</th>\n",
              "      <th>Day</th>\n",
              "      <th>TradeDay</th>\n",
              "      <th>mu10min</th>\n",
              "      <th>mu5min</th>\n",
              "      <th>mu2min</th>\n",
              "      <th>mumin</th>\n",
              "      <th>dev</th>\n",
              "      <th>delta1m</th>\n",
              "      <th>delta2m</th>\n",
              "      <th>delta5m</th>\n",
              "      <th>delta10m</th>\n",
              "    </tr>\n",
              "  </thead>\n",
              "  <tbody>\n",
              "    <tr>\n",
              "      <th>0</th>\n",
              "      <td>1747.9</td>\n",
              "      <td>1750.0</td>\n",
              "      <td>1745.0</td>\n",
              "      <td>1745.9</td>\n",
              "      <td>1747.97</td>\n",
              "      <td>44</td>\n",
              "      <td>2020-11-15 18:00:00</td>\n",
              "      <td>18</td>\n",
              "      <td>0</td>\n",
              "      <td>0</td>\n",
              "      <td>15</td>\n",
              "      <td>0</td>\n",
              "      <td>1747.970000</td>\n",
              "      <td>1747.970000</td>\n",
              "      <td>1747.970000</td>\n",
              "      <td>1747.970000</td>\n",
              "      <td>-2.0</td>\n",
              "      <td>0.000000</td>\n",
              "      <td>0.000000</td>\n",
              "      <td>0.000000</td>\n",
              "      <td>0.000000</td>\n",
              "    </tr>\n",
              "    <tr>\n",
              "      <th>1</th>\n",
              "      <td>1748.8</td>\n",
              "      <td>1749.5</td>\n",
              "      <td>1748.8</td>\n",
              "      <td>1749.2</td>\n",
              "      <td>1749.17</td>\n",
              "      <td>3</td>\n",
              "      <td>2020-11-15 18:00:05</td>\n",
              "      <td>18</td>\n",
              "      <td>0</td>\n",
              "      <td>5</td>\n",
              "      <td>15</td>\n",
              "      <td>0</td>\n",
              "      <td>1748.570000</td>\n",
              "      <td>1748.570000</td>\n",
              "      <td>1748.570000</td>\n",
              "      <td>1748.570000</td>\n",
              "      <td>0.4</td>\n",
              "      <td>0.600000</td>\n",
              "      <td>0.600000</td>\n",
              "      <td>0.600000</td>\n",
              "      <td>0.600000</td>\n",
              "    </tr>\n",
              "    <tr>\n",
              "      <th>2</th>\n",
              "      <td>1749.1</td>\n",
              "      <td>1749.1</td>\n",
              "      <td>1747.2</td>\n",
              "      <td>1747.2</td>\n",
              "      <td>1748.68</td>\n",
              "      <td>18</td>\n",
              "      <td>2020-11-15 18:00:10</td>\n",
              "      <td>18</td>\n",
              "      <td>0</td>\n",
              "      <td>10</td>\n",
              "      <td>15</td>\n",
              "      <td>0</td>\n",
              "      <td>1748.606667</td>\n",
              "      <td>1748.606667</td>\n",
              "      <td>1748.606667</td>\n",
              "      <td>1748.606667</td>\n",
              "      <td>-1.9</td>\n",
              "      <td>0.073333</td>\n",
              "      <td>0.073333</td>\n",
              "      <td>0.073333</td>\n",
              "      <td>0.073333</td>\n",
              "    </tr>\n",
              "    <tr>\n",
              "      <th>3</th>\n",
              "      <td>1748.5</td>\n",
              "      <td>1748.9</td>\n",
              "      <td>1748.5</td>\n",
              "      <td>1748.9</td>\n",
              "      <td>1748.63</td>\n",
              "      <td>3</td>\n",
              "      <td>2020-11-15 18:00:15</td>\n",
              "      <td>18</td>\n",
              "      <td>0</td>\n",
              "      <td>15</td>\n",
              "      <td>15</td>\n",
              "      <td>0</td>\n",
              "      <td>1748.612500</td>\n",
              "      <td>1748.612500</td>\n",
              "      <td>1748.612500</td>\n",
              "      <td>1748.612500</td>\n",
              "      <td>0.4</td>\n",
              "      <td>0.017500</td>\n",
              "      <td>0.017500</td>\n",
              "      <td>0.017500</td>\n",
              "      <td>0.017500</td>\n",
              "    </tr>\n",
              "    <tr>\n",
              "      <th>4</th>\n",
              "      <td>1749.0</td>\n",
              "      <td>1749.5</td>\n",
              "      <td>1748.6</td>\n",
              "      <td>1749.5</td>\n",
              "      <td>1749.23</td>\n",
              "      <td>9</td>\n",
              "      <td>2020-11-15 18:00:20</td>\n",
              "      <td>18</td>\n",
              "      <td>0</td>\n",
              "      <td>20</td>\n",
              "      <td>15</td>\n",
              "      <td>0</td>\n",
              "      <td>1748.736000</td>\n",
              "      <td>1748.736000</td>\n",
              "      <td>1748.736000</td>\n",
              "      <td>1748.736000</td>\n",
              "      <td>0.5</td>\n",
              "      <td>0.494000</td>\n",
              "      <td>0.494000</td>\n",
              "      <td>0.494000</td>\n",
              "      <td>0.494000</td>\n",
              "    </tr>\n",
              "  </tbody>\n",
              "</table>\n",
              "</div>"
            ],
            "text/plain": [
              "     open    high     low   close  ...   delta1m   delta2m   delta5m  delta10m\n",
              "0  1747.9  1750.0  1745.0  1745.9  ...  0.000000  0.000000  0.000000  0.000000\n",
              "1  1748.8  1749.5  1748.8  1749.2  ...  0.600000  0.600000  0.600000  0.600000\n",
              "2  1749.1  1749.1  1747.2  1747.2  ...  0.073333  0.073333  0.073333  0.073333\n",
              "3  1748.5  1748.9  1748.5  1748.9  ...  0.017500  0.017500  0.017500  0.017500\n",
              "4  1749.0  1749.5  1748.6  1749.5  ...  0.494000  0.494000  0.494000  0.494000\n",
              "\n",
              "[5 rows x 21 columns]"
            ]
          },
          "metadata": {
            "tags": []
          },
          "execution_count": 355
        }
      ]
    },
    {
      "cell_type": "code",
      "metadata": {
        "id": "jxpaOT0XPdAv",
        "colab": {
          "base_uri": "https://localhost:8080/",
          "height": 204
        },
        "outputId": "93d36843-b21b-4bb0-dfde-6d6fe915f8c9"
      },
      "source": [
        "\n",
        "df[\"pbmin\"] = (df.avg - df.avg.shift(periods=12)).fillna(0.0)\n",
        "df[\"pb5min\"] = (df.avg - df.avg.shift(periods=5*12)).fillna(0.0)\n",
        "df[\"pb10min\"] = (df.avg - df.avg.shift(periods=10*12)).fillna(0.0)\n",
        "df[\"pb15min\"] = (df.avg - df.avg.shift(periods=15*12)).fillna(0.0)\n",
        "df[\"pb30min\"] = (df.avg - df.avg.shift(periods=30*12)).fillna(0.0)\n",
        "df.head()"
      ],
      "execution_count": null,
      "outputs": [
        {
          "output_type": "execute_result",
          "data": {
            "text/html": [
              "<div>\n",
              "<style scoped>\n",
              "    .dataframe tbody tr th:only-of-type {\n",
              "        vertical-align: middle;\n",
              "    }\n",
              "\n",
              "    .dataframe tbody tr th {\n",
              "        vertical-align: top;\n",
              "    }\n",
              "\n",
              "    .dataframe thead th {\n",
              "        text-align: right;\n",
              "    }\n",
              "</style>\n",
              "<table border=\"1\" class=\"dataframe\">\n",
              "  <thead>\n",
              "    <tr style=\"text-align: right;\">\n",
              "      <th></th>\n",
              "      <th>open</th>\n",
              "      <th>high</th>\n",
              "      <th>low</th>\n",
              "      <th>close</th>\n",
              "      <th>avg</th>\n",
              "      <th>vol</th>\n",
              "      <th>Time</th>\n",
              "      <th>Hour</th>\n",
              "      <th>Minute</th>\n",
              "      <th>Second</th>\n",
              "      <th>Day</th>\n",
              "      <th>TradeDay</th>\n",
              "      <th>mu10min</th>\n",
              "      <th>mu5min</th>\n",
              "      <th>mu2min</th>\n",
              "      <th>mumin</th>\n",
              "      <th>dev</th>\n",
              "      <th>delta1m</th>\n",
              "      <th>delta2m</th>\n",
              "      <th>delta5m</th>\n",
              "      <th>delta10m</th>\n",
              "      <th>pbmin</th>\n",
              "      <th>pb5min</th>\n",
              "      <th>pb10min</th>\n",
              "      <th>pb15min</th>\n",
              "      <th>pb30min</th>\n",
              "    </tr>\n",
              "  </thead>\n",
              "  <tbody>\n",
              "    <tr>\n",
              "      <th>0</th>\n",
              "      <td>1747.9</td>\n",
              "      <td>1750.0</td>\n",
              "      <td>1745.0</td>\n",
              "      <td>1745.9</td>\n",
              "      <td>1747.97</td>\n",
              "      <td>44</td>\n",
              "      <td>2020-11-15 18:00:00</td>\n",
              "      <td>18</td>\n",
              "      <td>0</td>\n",
              "      <td>0</td>\n",
              "      <td>15</td>\n",
              "      <td>0</td>\n",
              "      <td>1747.970000</td>\n",
              "      <td>1747.970000</td>\n",
              "      <td>1747.970000</td>\n",
              "      <td>1747.970000</td>\n",
              "      <td>-2.0</td>\n",
              "      <td>0.000000</td>\n",
              "      <td>0.000000</td>\n",
              "      <td>0.000000</td>\n",
              "      <td>0.000000</td>\n",
              "      <td>0.0</td>\n",
              "      <td>0.0</td>\n",
              "      <td>0.0</td>\n",
              "      <td>0.0</td>\n",
              "      <td>0.0</td>\n",
              "    </tr>\n",
              "    <tr>\n",
              "      <th>1</th>\n",
              "      <td>1748.8</td>\n",
              "      <td>1749.5</td>\n",
              "      <td>1748.8</td>\n",
              "      <td>1749.2</td>\n",
              "      <td>1749.17</td>\n",
              "      <td>3</td>\n",
              "      <td>2020-11-15 18:00:05</td>\n",
              "      <td>18</td>\n",
              "      <td>0</td>\n",
              "      <td>5</td>\n",
              "      <td>15</td>\n",
              "      <td>0</td>\n",
              "      <td>1748.570000</td>\n",
              "      <td>1748.570000</td>\n",
              "      <td>1748.570000</td>\n",
              "      <td>1748.570000</td>\n",
              "      <td>0.4</td>\n",
              "      <td>0.600000</td>\n",
              "      <td>0.600000</td>\n",
              "      <td>0.600000</td>\n",
              "      <td>0.600000</td>\n",
              "      <td>0.0</td>\n",
              "      <td>0.0</td>\n",
              "      <td>0.0</td>\n",
              "      <td>0.0</td>\n",
              "      <td>0.0</td>\n",
              "    </tr>\n",
              "    <tr>\n",
              "      <th>2</th>\n",
              "      <td>1749.1</td>\n",
              "      <td>1749.1</td>\n",
              "      <td>1747.2</td>\n",
              "      <td>1747.2</td>\n",
              "      <td>1748.68</td>\n",
              "      <td>18</td>\n",
              "      <td>2020-11-15 18:00:10</td>\n",
              "      <td>18</td>\n",
              "      <td>0</td>\n",
              "      <td>10</td>\n",
              "      <td>15</td>\n",
              "      <td>0</td>\n",
              "      <td>1748.606667</td>\n",
              "      <td>1748.606667</td>\n",
              "      <td>1748.606667</td>\n",
              "      <td>1748.606667</td>\n",
              "      <td>-1.9</td>\n",
              "      <td>0.073333</td>\n",
              "      <td>0.073333</td>\n",
              "      <td>0.073333</td>\n",
              "      <td>0.073333</td>\n",
              "      <td>0.0</td>\n",
              "      <td>0.0</td>\n",
              "      <td>0.0</td>\n",
              "      <td>0.0</td>\n",
              "      <td>0.0</td>\n",
              "    </tr>\n",
              "    <tr>\n",
              "      <th>3</th>\n",
              "      <td>1748.5</td>\n",
              "      <td>1748.9</td>\n",
              "      <td>1748.5</td>\n",
              "      <td>1748.9</td>\n",
              "      <td>1748.63</td>\n",
              "      <td>3</td>\n",
              "      <td>2020-11-15 18:00:15</td>\n",
              "      <td>18</td>\n",
              "      <td>0</td>\n",
              "      <td>15</td>\n",
              "      <td>15</td>\n",
              "      <td>0</td>\n",
              "      <td>1748.612500</td>\n",
              "      <td>1748.612500</td>\n",
              "      <td>1748.612500</td>\n",
              "      <td>1748.612500</td>\n",
              "      <td>0.4</td>\n",
              "      <td>0.017500</td>\n",
              "      <td>0.017500</td>\n",
              "      <td>0.017500</td>\n",
              "      <td>0.017500</td>\n",
              "      <td>0.0</td>\n",
              "      <td>0.0</td>\n",
              "      <td>0.0</td>\n",
              "      <td>0.0</td>\n",
              "      <td>0.0</td>\n",
              "    </tr>\n",
              "    <tr>\n",
              "      <th>4</th>\n",
              "      <td>1749.0</td>\n",
              "      <td>1749.5</td>\n",
              "      <td>1748.6</td>\n",
              "      <td>1749.5</td>\n",
              "      <td>1749.23</td>\n",
              "      <td>9</td>\n",
              "      <td>2020-11-15 18:00:20</td>\n",
              "      <td>18</td>\n",
              "      <td>0</td>\n",
              "      <td>20</td>\n",
              "      <td>15</td>\n",
              "      <td>0</td>\n",
              "      <td>1748.736000</td>\n",
              "      <td>1748.736000</td>\n",
              "      <td>1748.736000</td>\n",
              "      <td>1748.736000</td>\n",
              "      <td>0.5</td>\n",
              "      <td>0.494000</td>\n",
              "      <td>0.494000</td>\n",
              "      <td>0.494000</td>\n",
              "      <td>0.494000</td>\n",
              "      <td>0.0</td>\n",
              "      <td>0.0</td>\n",
              "      <td>0.0</td>\n",
              "      <td>0.0</td>\n",
              "      <td>0.0</td>\n",
              "    </tr>\n",
              "  </tbody>\n",
              "</table>\n",
              "</div>"
            ],
            "text/plain": [
              "     open    high     low   close  ...  pb5min  pb10min pb15min  pb30min\n",
              "0  1747.9  1750.0  1745.0  1745.9  ...     0.0      0.0     0.0      0.0\n",
              "1  1748.8  1749.5  1748.8  1749.2  ...     0.0      0.0     0.0      0.0\n",
              "2  1749.1  1749.1  1747.2  1747.2  ...     0.0      0.0     0.0      0.0\n",
              "3  1748.5  1748.9  1748.5  1748.9  ...     0.0      0.0     0.0      0.0\n",
              "4  1749.0  1749.5  1748.6  1749.5  ...     0.0      0.0     0.0      0.0\n",
              "\n",
              "[5 rows x 26 columns]"
            ]
          },
          "metadata": {
            "tags": []
          },
          "execution_count": 356
        }
      ]
    },
    {
      "cell_type": "code",
      "metadata": {
        "id": "Q6IDVkutz2tF",
        "colab": {
          "base_uri": "https://localhost:8080/",
          "height": 394
        },
        "outputId": "adf15da8-91c2-45d4-9243-c0a24e974a7d"
      },
      "source": [
        "df[\"pfmin\"] = (df.avg.shift(-12)-df.avg).fillna(0.0)\n",
        "df[\"pf2min\"] = (df.avg.shift(-2*12)-df.avg).fillna(0.0)\n",
        "df[\"pf5min\"] = (df.avg.shift(-5*12)-df.avg).fillna(0.0)\n",
        "df[\"pf10min\"] = (df.avg.shift(-10*12)-df.avg).fillna(0.0)\n",
        "df[\"pf15min\"] = (df.avg.shift(-15*12)-df.avg).fillna(0.0)\n",
        "df.tail()"
      ],
      "execution_count": null,
      "outputs": [
        {
          "output_type": "execute_result",
          "data": {
            "text/html": [
              "<div>\n",
              "<style scoped>\n",
              "    .dataframe tbody tr th:only-of-type {\n",
              "        vertical-align: middle;\n",
              "    }\n",
              "\n",
              "    .dataframe tbody tr th {\n",
              "        vertical-align: top;\n",
              "    }\n",
              "\n",
              "    .dataframe thead th {\n",
              "        text-align: right;\n",
              "    }\n",
              "</style>\n",
              "<table border=\"1\" class=\"dataframe\">\n",
              "  <thead>\n",
              "    <tr style=\"text-align: right;\">\n",
              "      <th></th>\n",
              "      <th>open</th>\n",
              "      <th>high</th>\n",
              "      <th>low</th>\n",
              "      <th>close</th>\n",
              "      <th>avg</th>\n",
              "      <th>vol</th>\n",
              "      <th>Time</th>\n",
              "      <th>Hour</th>\n",
              "      <th>Minute</th>\n",
              "      <th>Second</th>\n",
              "      <th>Day</th>\n",
              "      <th>TradeDay</th>\n",
              "      <th>mu10min</th>\n",
              "      <th>mu5min</th>\n",
              "      <th>mu2min</th>\n",
              "      <th>mumin</th>\n",
              "      <th>dev</th>\n",
              "      <th>delta1m</th>\n",
              "      <th>delta2m</th>\n",
              "      <th>delta5m</th>\n",
              "      <th>delta10m</th>\n",
              "      <th>pbmin</th>\n",
              "      <th>pb5min</th>\n",
              "      <th>pb10min</th>\n",
              "      <th>pb15min</th>\n",
              "      <th>pb30min</th>\n",
              "      <th>pfmin</th>\n",
              "      <th>pf2min</th>\n",
              "      <th>pf5min</th>\n",
              "      <th>pf10min</th>\n",
              "      <th>pf15min</th>\n",
              "    </tr>\n",
              "  </thead>\n",
              "  <tbody>\n",
              "    <tr>\n",
              "      <th>81595</th>\n",
              "      <td>1779.6</td>\n",
              "      <td>1779.6</td>\n",
              "      <td>1779.6</td>\n",
              "      <td>1779.6</td>\n",
              "      <td>1779.60</td>\n",
              "      <td>0</td>\n",
              "      <td>2020-11-20 16:34:35</td>\n",
              "      <td>16</td>\n",
              "      <td>34</td>\n",
              "      <td>35</td>\n",
              "      <td>20</td>\n",
              "      <td>4</td>\n",
              "      <td>1779.836833</td>\n",
              "      <td>1779.323167</td>\n",
              "      <td>1779.475417</td>\n",
              "      <td>1779.544167</td>\n",
              "      <td>0.0</td>\n",
              "      <td>0.055833</td>\n",
              "      <td>0.124583</td>\n",
              "      <td>0.276833</td>\n",
              "      <td>-0.236833</td>\n",
              "      <td>-0.45</td>\n",
              "      <td>0.75</td>\n",
              "      <td>-3.02</td>\n",
              "      <td>-4.30</td>\n",
              "      <td>-6.71</td>\n",
              "      <td>0.0</td>\n",
              "      <td>0.0</td>\n",
              "      <td>0.0</td>\n",
              "      <td>0.0</td>\n",
              "      <td>0.0</td>\n",
              "    </tr>\n",
              "    <tr>\n",
              "      <th>81596</th>\n",
              "      <td>1779.4</td>\n",
              "      <td>1779.4</td>\n",
              "      <td>1779.4</td>\n",
              "      <td>1779.4</td>\n",
              "      <td>1779.40</td>\n",
              "      <td>1</td>\n",
              "      <td>2020-11-20 16:34:40</td>\n",
              "      <td>16</td>\n",
              "      <td>34</td>\n",
              "      <td>40</td>\n",
              "      <td>20</td>\n",
              "      <td>4</td>\n",
              "      <td>1779.809583</td>\n",
              "      <td>1779.334000</td>\n",
              "      <td>1779.467083</td>\n",
              "      <td>1779.541667</td>\n",
              "      <td>0.0</td>\n",
              "      <td>-0.141667</td>\n",
              "      <td>-0.067083</td>\n",
              "      <td>0.066000</td>\n",
              "      <td>-0.409583</td>\n",
              "      <td>-0.03</td>\n",
              "      <td>0.65</td>\n",
              "      <td>-3.27</td>\n",
              "      <td>-4.83</td>\n",
              "      <td>-7.00</td>\n",
              "      <td>0.0</td>\n",
              "      <td>0.0</td>\n",
              "      <td>0.0</td>\n",
              "      <td>0.0</td>\n",
              "      <td>0.0</td>\n",
              "    </tr>\n",
              "    <tr>\n",
              "      <th>81597</th>\n",
              "      <td>1779.4</td>\n",
              "      <td>1779.4</td>\n",
              "      <td>1778.9</td>\n",
              "      <td>1778.9</td>\n",
              "      <td>1779.08</td>\n",
              "      <td>4</td>\n",
              "      <td>2020-11-20 16:34:45</td>\n",
              "      <td>16</td>\n",
              "      <td>34</td>\n",
              "      <td>45</td>\n",
              "      <td>20</td>\n",
              "      <td>4</td>\n",
              "      <td>1779.780250</td>\n",
              "      <td>1779.343667</td>\n",
              "      <td>1779.459167</td>\n",
              "      <td>1779.490000</td>\n",
              "      <td>-0.5</td>\n",
              "      <td>-0.410000</td>\n",
              "      <td>-0.379167</td>\n",
              "      <td>-0.263667</td>\n",
              "      <td>-0.700250</td>\n",
              "      <td>-0.62</td>\n",
              "      <td>0.58</td>\n",
              "      <td>-3.52</td>\n",
              "      <td>-4.75</td>\n",
              "      <td>-6.81</td>\n",
              "      <td>0.0</td>\n",
              "      <td>0.0</td>\n",
              "      <td>0.0</td>\n",
              "      <td>0.0</td>\n",
              "      <td>0.0</td>\n",
              "    </tr>\n",
              "    <tr>\n",
              "      <th>81598</th>\n",
              "      <td>1778.9</td>\n",
              "      <td>1778.9</td>\n",
              "      <td>1778.9</td>\n",
              "      <td>1778.9</td>\n",
              "      <td>1778.90</td>\n",
              "      <td>0</td>\n",
              "      <td>2020-11-20 16:34:50</td>\n",
              "      <td>16</td>\n",
              "      <td>34</td>\n",
              "      <td>50</td>\n",
              "      <td>20</td>\n",
              "      <td>4</td>\n",
              "      <td>1779.751833</td>\n",
              "      <td>1779.343167</td>\n",
              "      <td>1779.442500</td>\n",
              "      <td>1779.431667</td>\n",
              "      <td>0.0</td>\n",
              "      <td>-0.531667</td>\n",
              "      <td>-0.542500</td>\n",
              "      <td>-0.443167</td>\n",
              "      <td>-0.851833</td>\n",
              "      <td>-0.70</td>\n",
              "      <td>-0.03</td>\n",
              "      <td>-3.41</td>\n",
              "      <td>-4.90</td>\n",
              "      <td>-7.43</td>\n",
              "      <td>0.0</td>\n",
              "      <td>0.0</td>\n",
              "      <td>0.0</td>\n",
              "      <td>0.0</td>\n",
              "      <td>0.0</td>\n",
              "    </tr>\n",
              "    <tr>\n",
              "      <th>81599</th>\n",
              "      <td>1778.7</td>\n",
              "      <td>1778.7</td>\n",
              "      <td>1778.6</td>\n",
              "      <td>1778.6</td>\n",
              "      <td>1778.65</td>\n",
              "      <td>8</td>\n",
              "      <td>2020-11-20 16:34:55</td>\n",
              "      <td>16</td>\n",
              "      <td>34</td>\n",
              "      <td>55</td>\n",
              "      <td>20</td>\n",
              "      <td>4</td>\n",
              "      <td>1779.722250</td>\n",
              "      <td>1779.327500</td>\n",
              "      <td>1779.411250</td>\n",
              "      <td>1779.348333</td>\n",
              "      <td>-0.1</td>\n",
              "      <td>-0.698333</td>\n",
              "      <td>-0.761250</td>\n",
              "      <td>-0.677500</td>\n",
              "      <td>-1.072250</td>\n",
              "      <td>-1.00</td>\n",
              "      <td>-0.94</td>\n",
              "      <td>-3.55</td>\n",
              "      <td>-5.05</td>\n",
              "      <td>-7.36</td>\n",
              "      <td>0.0</td>\n",
              "      <td>0.0</td>\n",
              "      <td>0.0</td>\n",
              "      <td>0.0</td>\n",
              "      <td>0.0</td>\n",
              "    </tr>\n",
              "  </tbody>\n",
              "</table>\n",
              "</div>"
            ],
            "text/plain": [
              "         open    high     low   close  ...  pf2min  pf5min pf10min  pf15min\n",
              "81595  1779.6  1779.6  1779.6  1779.6  ...     0.0     0.0     0.0      0.0\n",
              "81596  1779.4  1779.4  1779.4  1779.4  ...     0.0     0.0     0.0      0.0\n",
              "81597  1779.4  1779.4  1778.9  1778.9  ...     0.0     0.0     0.0      0.0\n",
              "81598  1778.9  1778.9  1778.9  1778.9  ...     0.0     0.0     0.0      0.0\n",
              "81599  1778.7  1778.7  1778.6  1778.6  ...     0.0     0.0     0.0      0.0\n",
              "\n",
              "[5 rows x 31 columns]"
            ]
          },
          "metadata": {
            "tags": []
          },
          "execution_count": 357
        }
      ]
    },
    {
      "cell_type": "code",
      "metadata": {
        "id": "F_8SNQm_zxnI"
      },
      "source": [
        "a4_dims = (23,12)\n",
        "fig, ax = plt.subplots(figsize=a4_dims)\n",
        "sns.scatterplot(x=df.pfmin, y=df.delta1m)"
      ],
      "execution_count": null,
      "outputs": []
    },
    {
      "cell_type": "code",
      "metadata": {
        "id": "-8-rH6VyW9Cg",
        "colab": {
          "base_uri": "https://localhost:8080/"
        },
        "outputId": "d2c78f61-e7b6-40e4-d91b-feef185a4b2c"
      },
      "source": [
        "df.columns[11:33]"
      ],
      "execution_count": null,
      "outputs": [
        {
          "output_type": "execute_result",
          "data": {
            "text/plain": [
              "Index(['TradeDay', 'mu10min', 'mu5min', 'mu2min', 'mumin', 'dev', 'delta1m',\n",
              "       'delta2m', 'delta5m', 'delta10m', 'pbmin', 'pb5min', 'pb10min',\n",
              "       'pb15min', 'pb30min', 'pfmin', 'pf2min', 'pf5min', 'pf10min',\n",
              "       'pf15min'],\n",
              "      dtype='object')"
            ]
          },
          "metadata": {
            "tags": []
          },
          "execution_count": 358
        }
      ]
    },
    {
      "cell_type": "code",
      "metadata": {
        "id": "7XjTCrVoRhVl"
      },
      "source": [
        "df.drop(df.head(30*12).index, inplace=True)\n",
        "df.drop(df.tail(15*12).index, inplace=True)"
      ],
      "execution_count": null,
      "outputs": []
    },
    {
      "cell_type": "code",
      "metadata": {
        "colab": {
          "base_uri": "https://localhost:8080/"
        },
        "id": "w6DmFwkOYhu4",
        "outputId": "ed215c4f-9a7b-4a2e-faaf-a8bf400cfd45"
      },
      "source": [
        "df.shape[0]"
      ],
      "execution_count": null,
      "outputs": [
        {
          "output_type": "execute_result",
          "data": {
            "text/plain": [
              "81060"
            ]
          },
          "metadata": {
            "tags": []
          },
          "execution_count": 360
        }
      ]
    },
    {
      "cell_type": "code",
      "metadata": {
        "id": "bljPO8a1dvip"
      },
      "source": [
        "import lightgbm as lgb\n",
        "from sklearn.model_selection import train_test_split\n",
        "from sklearn.metrics import mean_squared_error"
      ],
      "execution_count": null,
      "outputs": []
    },
    {
      "cell_type": "code",
      "metadata": {
        "colab": {
          "base_uri": "https://localhost:8080/"
        },
        "id": "1GtTWbFygyPm",
        "outputId": "8bb13bc8-0b30-4218-cc68-039343f545f0"
      },
      "source": [
        "df.columns[16:30]"
      ],
      "execution_count": null,
      "outputs": [
        {
          "output_type": "execute_result",
          "data": {
            "text/plain": [
              "Index(['dev', 'delta1m', 'delta2m', 'delta5m', 'delta10m', 'pbmin', 'pb5min',\n",
              "       'pb10min', 'pb15min', 'pb30min', 'pfmin', 'pf2min', 'pf5min',\n",
              "       'pf10min'],\n",
              "      dtype='object')"
            ]
          },
          "metadata": {
            "tags": []
          },
          "execution_count": 378
        }
      ]
    },
    {
      "cell_type": "code",
      "metadata": {
        "id": "YTdGHXBzRqoS"
      },
      "source": [
        "data = df[df.columns[16:30]]"
      ],
      "execution_count": null,
      "outputs": []
    },
    {
      "cell_type": "code",
      "metadata": {
        "colab": {
          "base_uri": "https://localhost:8080/",
          "height": 419
        },
        "id": "3TeIg3mfR0FD",
        "outputId": "c1a313d9-aad3-454f-8051-b2f787b146c8"
      },
      "source": [
        "data"
      ],
      "execution_count": null,
      "outputs": [
        {
          "output_type": "execute_result",
          "data": {
            "text/html": [
              "<div>\n",
              "<style scoped>\n",
              "    .dataframe tbody tr th:only-of-type {\n",
              "        vertical-align: middle;\n",
              "    }\n",
              "\n",
              "    .dataframe tbody tr th {\n",
              "        vertical-align: top;\n",
              "    }\n",
              "\n",
              "    .dataframe thead th {\n",
              "        text-align: right;\n",
              "    }\n",
              "</style>\n",
              "<table border=\"1\" class=\"dataframe\">\n",
              "  <thead>\n",
              "    <tr style=\"text-align: right;\">\n",
              "      <th></th>\n",
              "      <th>dev</th>\n",
              "      <th>delta1m</th>\n",
              "      <th>delta2m</th>\n",
              "      <th>delta5m</th>\n",
              "      <th>delta10m</th>\n",
              "      <th>pbmin</th>\n",
              "      <th>pb5min</th>\n",
              "      <th>pb10min</th>\n",
              "      <th>pb15min</th>\n",
              "      <th>pb30min</th>\n",
              "      <th>pfmin</th>\n",
              "      <th>pf2min</th>\n",
              "      <th>pf5min</th>\n",
              "      <th>pf10min</th>\n",
              "    </tr>\n",
              "  </thead>\n",
              "  <tbody>\n",
              "    <tr>\n",
              "      <th>360</th>\n",
              "      <td>0.1</td>\n",
              "      <td>0.973333</td>\n",
              "      <td>1.238333</td>\n",
              "      <td>0.252167</td>\n",
              "      <td>-1.336583</td>\n",
              "      <td>1.36</td>\n",
              "      <td>-1.88</td>\n",
              "      <td>-3.95</td>\n",
              "      <td>-6.30</td>\n",
              "      <td>4.48</td>\n",
              "      <td>1.35</td>\n",
              "      <td>0.95</td>\n",
              "      <td>0.65</td>\n",
              "      <td>0.62</td>\n",
              "    </tr>\n",
              "    <tr>\n",
              "      <th>361</th>\n",
              "      <td>-0.3</td>\n",
              "      <td>1.209167</td>\n",
              "      <td>1.550417</td>\n",
              "      <td>0.663500</td>\n",
              "      <td>-0.928333</td>\n",
              "      <td>1.73</td>\n",
              "      <td>-1.88</td>\n",
              "      <td>-3.39</td>\n",
              "      <td>-5.69</td>\n",
              "      <td>3.66</td>\n",
              "      <td>0.97</td>\n",
              "      <td>0.57</td>\n",
              "      <td>0.27</td>\n",
              "      <td>0.37</td>\n",
              "    </tr>\n",
              "    <tr>\n",
              "      <th>362</th>\n",
              "      <td>0.0</td>\n",
              "      <td>0.845833</td>\n",
              "      <td>1.262083</td>\n",
              "      <td>0.470167</td>\n",
              "      <td>-1.129167</td>\n",
              "      <td>1.60</td>\n",
              "      <td>-2.20</td>\n",
              "      <td>-3.50</td>\n",
              "      <td>-5.20</td>\n",
              "      <td>3.92</td>\n",
              "      <td>0.90</td>\n",
              "      <td>0.80</td>\n",
              "      <td>0.30</td>\n",
              "      <td>0.80</td>\n",
              "    </tr>\n",
              "    <tr>\n",
              "      <th>363</th>\n",
              "      <td>0.3</td>\n",
              "      <td>1.381667</td>\n",
              "      <td>1.897500</td>\n",
              "      <td>1.224667</td>\n",
              "      <td>-0.376083</td>\n",
              "      <td>2.33</td>\n",
              "      <td>-1.47</td>\n",
              "      <td>-2.77</td>\n",
              "      <td>-4.19</td>\n",
              "      <td>4.70</td>\n",
              "      <td>0.32</td>\n",
              "      <td>0.07</td>\n",
              "      <td>-0.53</td>\n",
              "      <td>0.40</td>\n",
              "    </tr>\n",
              "    <tr>\n",
              "      <th>364</th>\n",
              "      <td>0.0</td>\n",
              "      <td>1.490000</td>\n",
              "      <td>2.100000</td>\n",
              "      <td>1.573667</td>\n",
              "      <td>-0.024083</td>\n",
              "      <td>2.66</td>\n",
              "      <td>-1.14</td>\n",
              "      <td>-2.64</td>\n",
              "      <td>-3.42</td>\n",
              "      <td>4.43</td>\n",
              "      <td>-0.23</td>\n",
              "      <td>-0.36</td>\n",
              "      <td>-0.86</td>\n",
              "      <td>0.07</td>\n",
              "    </tr>\n",
              "    <tr>\n",
              "      <th>...</th>\n",
              "      <td>...</td>\n",
              "      <td>...</td>\n",
              "      <td>...</td>\n",
              "      <td>...</td>\n",
              "      <td>...</td>\n",
              "      <td>...</td>\n",
              "      <td>...</td>\n",
              "      <td>...</td>\n",
              "      <td>...</td>\n",
              "      <td>...</td>\n",
              "      <td>...</td>\n",
              "      <td>...</td>\n",
              "      <td>...</td>\n",
              "      <td>...</td>\n",
              "    </tr>\n",
              "    <tr>\n",
              "      <th>81415</th>\n",
              "      <td>0.0</td>\n",
              "      <td>0.185833</td>\n",
              "      <td>0.120417</td>\n",
              "      <td>0.259833</td>\n",
              "      <td>-0.110417</td>\n",
              "      <td>0.30</td>\n",
              "      <td>-0.49</td>\n",
              "      <td>-1.10</td>\n",
              "      <td>-2.41</td>\n",
              "      <td>3.88</td>\n",
              "      <td>0.40</td>\n",
              "      <td>0.30</td>\n",
              "      <td>-1.28</td>\n",
              "      <td>-5.05</td>\n",
              "    </tr>\n",
              "    <tr>\n",
              "      <th>81416</th>\n",
              "      <td>0.0</td>\n",
              "      <td>0.447500</td>\n",
              "      <td>0.438750</td>\n",
              "      <td>0.586000</td>\n",
              "      <td>0.222417</td>\n",
              "      <td>0.82</td>\n",
              "      <td>0.23</td>\n",
              "      <td>-0.34</td>\n",
              "      <td>-2.17</td>\n",
              "      <td>4.15</td>\n",
              "      <td>0.27</td>\n",
              "      <td>-0.43</td>\n",
              "      <td>-1.56</td>\n",
              "      <td>-5.48</td>\n",
              "    </tr>\n",
              "    <tr>\n",
              "      <th>81417</th>\n",
              "      <td>-0.5</td>\n",
              "      <td>0.025833</td>\n",
              "      <td>0.047083</td>\n",
              "      <td>0.166500</td>\n",
              "      <td>-0.173833</td>\n",
              "      <td>0.26</td>\n",
              "      <td>1.17</td>\n",
              "      <td>-0.45</td>\n",
              "      <td>-2.06</td>\n",
              "      <td>3.68</td>\n",
              "      <td>0.68</td>\n",
              "      <td>-0.23</td>\n",
              "      <td>-1.23</td>\n",
              "      <td>-5.33</td>\n",
              "    </tr>\n",
              "    <tr>\n",
              "      <th>81418</th>\n",
              "      <td>0.0</td>\n",
              "      <td>0.005000</td>\n",
              "      <td>0.032083</td>\n",
              "      <td>0.120333</td>\n",
              "      <td>-0.202000</td>\n",
              "      <td>-0.11</td>\n",
              "      <td>0.97</td>\n",
              "      <td>-0.22</td>\n",
              "      <td>-2.53</td>\n",
              "      <td>3.60</td>\n",
              "      <td>0.60</td>\n",
              "      <td>-0.30</td>\n",
              "      <td>-1.49</td>\n",
              "      <td>-4.87</td>\n",
              "    </tr>\n",
              "    <tr>\n",
              "      <th>81419</th>\n",
              "      <td>0.0</td>\n",
              "      <td>-0.099167</td>\n",
              "      <td>-0.049167</td>\n",
              "      <td>0.007333</td>\n",
              "      <td>-0.302750</td>\n",
              "      <td>0.05</td>\n",
              "      <td>0.78</td>\n",
              "      <td>0.09</td>\n",
              "      <td>-2.31</td>\n",
              "      <td>3.30</td>\n",
              "      <td>0.77</td>\n",
              "      <td>0.14</td>\n",
              "      <td>-1.50</td>\n",
              "      <td>-4.11</td>\n",
              "    </tr>\n",
              "  </tbody>\n",
              "</table>\n",
              "<p>81060 rows × 14 columns</p>\n",
              "</div>"
            ],
            "text/plain": [
              "       dev   delta1m   delta2m   delta5m  ...  pfmin  pf2min  pf5min  pf10min\n",
              "360    0.1  0.973333  1.238333  0.252167  ...   1.35    0.95    0.65     0.62\n",
              "361   -0.3  1.209167  1.550417  0.663500  ...   0.97    0.57    0.27     0.37\n",
              "362    0.0  0.845833  1.262083  0.470167  ...   0.90    0.80    0.30     0.80\n",
              "363    0.3  1.381667  1.897500  1.224667  ...   0.32    0.07   -0.53     0.40\n",
              "364    0.0  1.490000  2.100000  1.573667  ...  -0.23   -0.36   -0.86     0.07\n",
              "...    ...       ...       ...       ...  ...    ...     ...     ...      ...\n",
              "81415  0.0  0.185833  0.120417  0.259833  ...   0.40    0.30   -1.28    -5.05\n",
              "81416  0.0  0.447500  0.438750  0.586000  ...   0.27   -0.43   -1.56    -5.48\n",
              "81417 -0.5  0.025833  0.047083  0.166500  ...   0.68   -0.23   -1.23    -5.33\n",
              "81418  0.0  0.005000  0.032083  0.120333  ...   0.60   -0.30   -1.49    -4.87\n",
              "81419  0.0 -0.099167 -0.049167  0.007333  ...   0.77    0.14   -1.50    -4.11\n",
              "\n",
              "[81060 rows x 14 columns]"
            ]
          },
          "metadata": {
            "tags": []
          },
          "execution_count": 380
        }
      ]
    },
    {
      "cell_type": "code",
      "metadata": {
        "id": "9oMvfNXcn69T"
      },
      "source": [
        "data.reset_index(inplace=True, drop=True)\n",
        "label = data.pf5min\n",
        "data = data[data.columns[0:10]]"
      ],
      "execution_count": null,
      "outputs": []
    },
    {
      "cell_type": "code",
      "metadata": {
        "colab": {
          "base_uri": "https://localhost:8080/",
          "height": 419
        },
        "id": "dPrVlqwtcy_B",
        "outputId": "8c27f6c6-7383-4a09-f812-367752f82b99"
      },
      "source": [
        "data"
      ],
      "execution_count": null,
      "outputs": [
        {
          "output_type": "execute_result",
          "data": {
            "text/html": [
              "<div>\n",
              "<style scoped>\n",
              "    .dataframe tbody tr th:only-of-type {\n",
              "        vertical-align: middle;\n",
              "    }\n",
              "\n",
              "    .dataframe tbody tr th {\n",
              "        vertical-align: top;\n",
              "    }\n",
              "\n",
              "    .dataframe thead th {\n",
              "        text-align: right;\n",
              "    }\n",
              "</style>\n",
              "<table border=\"1\" class=\"dataframe\">\n",
              "  <thead>\n",
              "    <tr style=\"text-align: right;\">\n",
              "      <th></th>\n",
              "      <th>dev</th>\n",
              "      <th>delta1m</th>\n",
              "      <th>delta2m</th>\n",
              "      <th>delta5m</th>\n",
              "      <th>delta10m</th>\n",
              "      <th>pbmin</th>\n",
              "      <th>pb5min</th>\n",
              "      <th>pb10min</th>\n",
              "      <th>pb15min</th>\n",
              "      <th>pb30min</th>\n",
              "    </tr>\n",
              "  </thead>\n",
              "  <tbody>\n",
              "    <tr>\n",
              "      <th>0</th>\n",
              "      <td>0.1</td>\n",
              "      <td>0.973333</td>\n",
              "      <td>1.238333</td>\n",
              "      <td>0.252167</td>\n",
              "      <td>-1.336583</td>\n",
              "      <td>1.36</td>\n",
              "      <td>-1.88</td>\n",
              "      <td>-3.95</td>\n",
              "      <td>-6.30</td>\n",
              "      <td>4.48</td>\n",
              "    </tr>\n",
              "    <tr>\n",
              "      <th>1</th>\n",
              "      <td>-0.3</td>\n",
              "      <td>1.209167</td>\n",
              "      <td>1.550417</td>\n",
              "      <td>0.663500</td>\n",
              "      <td>-0.928333</td>\n",
              "      <td>1.73</td>\n",
              "      <td>-1.88</td>\n",
              "      <td>-3.39</td>\n",
              "      <td>-5.69</td>\n",
              "      <td>3.66</td>\n",
              "    </tr>\n",
              "    <tr>\n",
              "      <th>2</th>\n",
              "      <td>0.0</td>\n",
              "      <td>0.845833</td>\n",
              "      <td>1.262083</td>\n",
              "      <td>0.470167</td>\n",
              "      <td>-1.129167</td>\n",
              "      <td>1.60</td>\n",
              "      <td>-2.20</td>\n",
              "      <td>-3.50</td>\n",
              "      <td>-5.20</td>\n",
              "      <td>3.92</td>\n",
              "    </tr>\n",
              "    <tr>\n",
              "      <th>3</th>\n",
              "      <td>0.3</td>\n",
              "      <td>1.381667</td>\n",
              "      <td>1.897500</td>\n",
              "      <td>1.224667</td>\n",
              "      <td>-0.376083</td>\n",
              "      <td>2.33</td>\n",
              "      <td>-1.47</td>\n",
              "      <td>-2.77</td>\n",
              "      <td>-4.19</td>\n",
              "      <td>4.70</td>\n",
              "    </tr>\n",
              "    <tr>\n",
              "      <th>4</th>\n",
              "      <td>0.0</td>\n",
              "      <td>1.490000</td>\n",
              "      <td>2.100000</td>\n",
              "      <td>1.573667</td>\n",
              "      <td>-0.024083</td>\n",
              "      <td>2.66</td>\n",
              "      <td>-1.14</td>\n",
              "      <td>-2.64</td>\n",
              "      <td>-3.42</td>\n",
              "      <td>4.43</td>\n",
              "    </tr>\n",
              "    <tr>\n",
              "      <th>...</th>\n",
              "      <td>...</td>\n",
              "      <td>...</td>\n",
              "      <td>...</td>\n",
              "      <td>...</td>\n",
              "      <td>...</td>\n",
              "      <td>...</td>\n",
              "      <td>...</td>\n",
              "      <td>...</td>\n",
              "      <td>...</td>\n",
              "      <td>...</td>\n",
              "    </tr>\n",
              "    <tr>\n",
              "      <th>81055</th>\n",
              "      <td>0.0</td>\n",
              "      <td>0.185833</td>\n",
              "      <td>0.120417</td>\n",
              "      <td>0.259833</td>\n",
              "      <td>-0.110417</td>\n",
              "      <td>0.30</td>\n",
              "      <td>-0.49</td>\n",
              "      <td>-1.10</td>\n",
              "      <td>-2.41</td>\n",
              "      <td>3.88</td>\n",
              "    </tr>\n",
              "    <tr>\n",
              "      <th>81056</th>\n",
              "      <td>0.0</td>\n",
              "      <td>0.447500</td>\n",
              "      <td>0.438750</td>\n",
              "      <td>0.586000</td>\n",
              "      <td>0.222417</td>\n",
              "      <td>0.82</td>\n",
              "      <td>0.23</td>\n",
              "      <td>-0.34</td>\n",
              "      <td>-2.17</td>\n",
              "      <td>4.15</td>\n",
              "    </tr>\n",
              "    <tr>\n",
              "      <th>81057</th>\n",
              "      <td>-0.5</td>\n",
              "      <td>0.025833</td>\n",
              "      <td>0.047083</td>\n",
              "      <td>0.166500</td>\n",
              "      <td>-0.173833</td>\n",
              "      <td>0.26</td>\n",
              "      <td>1.17</td>\n",
              "      <td>-0.45</td>\n",
              "      <td>-2.06</td>\n",
              "      <td>3.68</td>\n",
              "    </tr>\n",
              "    <tr>\n",
              "      <th>81058</th>\n",
              "      <td>0.0</td>\n",
              "      <td>0.005000</td>\n",
              "      <td>0.032083</td>\n",
              "      <td>0.120333</td>\n",
              "      <td>-0.202000</td>\n",
              "      <td>-0.11</td>\n",
              "      <td>0.97</td>\n",
              "      <td>-0.22</td>\n",
              "      <td>-2.53</td>\n",
              "      <td>3.60</td>\n",
              "    </tr>\n",
              "    <tr>\n",
              "      <th>81059</th>\n",
              "      <td>0.0</td>\n",
              "      <td>-0.099167</td>\n",
              "      <td>-0.049167</td>\n",
              "      <td>0.007333</td>\n",
              "      <td>-0.302750</td>\n",
              "      <td>0.05</td>\n",
              "      <td>0.78</td>\n",
              "      <td>0.09</td>\n",
              "      <td>-2.31</td>\n",
              "      <td>3.30</td>\n",
              "    </tr>\n",
              "  </tbody>\n",
              "</table>\n",
              "<p>81060 rows × 10 columns</p>\n",
              "</div>"
            ],
            "text/plain": [
              "       dev   delta1m   delta2m   delta5m  ...  pb5min  pb10min  pb15min  pb30min\n",
              "0      0.1  0.973333  1.238333  0.252167  ...   -1.88    -3.95    -6.30     4.48\n",
              "1     -0.3  1.209167  1.550417  0.663500  ...   -1.88    -3.39    -5.69     3.66\n",
              "2      0.0  0.845833  1.262083  0.470167  ...   -2.20    -3.50    -5.20     3.92\n",
              "3      0.3  1.381667  1.897500  1.224667  ...   -1.47    -2.77    -4.19     4.70\n",
              "4      0.0  1.490000  2.100000  1.573667  ...   -1.14    -2.64    -3.42     4.43\n",
              "...    ...       ...       ...       ...  ...     ...      ...      ...      ...\n",
              "81055  0.0  0.185833  0.120417  0.259833  ...   -0.49    -1.10    -2.41     3.88\n",
              "81056  0.0  0.447500  0.438750  0.586000  ...    0.23    -0.34    -2.17     4.15\n",
              "81057 -0.5  0.025833  0.047083  0.166500  ...    1.17    -0.45    -2.06     3.68\n",
              "81058  0.0  0.005000  0.032083  0.120333  ...    0.97    -0.22    -2.53     3.60\n",
              "81059  0.0 -0.099167 -0.049167  0.007333  ...    0.78     0.09    -2.31     3.30\n",
              "\n",
              "[81060 rows x 10 columns]"
            ]
          },
          "metadata": {
            "tags": []
          },
          "execution_count": 382
        }
      ]
    },
    {
      "cell_type": "code",
      "metadata": {
        "id": "3MRxbx2bqnhO"
      },
      "source": [
        "x=data.values\n",
        "y=label.values\n"
      ],
      "execution_count": null,
      "outputs": []
    },
    {
      "cell_type": "code",
      "metadata": {
        "id": "a8bi-A1NrmYA"
      },
      "source": [
        "model = lgb.Booster(model_file='/content/drive/MyDrive/TWS/M2K_lgm_20201205.lgm')"
      ],
      "execution_count": null,
      "outputs": []
    },
    {
      "cell_type": "code",
      "metadata": {
        "id": "TOvOq0E_UbOr"
      },
      "source": [
        "y_p = model.predict(x)"
      ],
      "execution_count": null,
      "outputs": []
    },
    {
      "cell_type": "code",
      "metadata": {
        "id": "KZ_aa51DV0NK"
      },
      "source": [
        "from sklearn.metrics import mean_squared_error"
      ],
      "execution_count": null,
      "outputs": []
    },
    {
      "cell_type": "code",
      "metadata": {
        "colab": {
          "base_uri": "https://localhost:8080/"
        },
        "id": "kUoL0kOSV5PB",
        "outputId": "e43fd91c-5c0d-4cb6-b5d4-75e19aac92a9"
      },
      "source": [
        "mean_squared_error(y, y_p) ** 0.5"
      ],
      "execution_count": null,
      "outputs": [
        {
          "output_type": "execute_result",
          "data": {
            "text/plain": [
              "1.9137478548254734"
            ]
          },
          "metadata": {
            "tags": []
          },
          "execution_count": 387
        }
      ]
    },
    {
      "cell_type": "code",
      "metadata": {
        "id": "0O2BFM6B2Ckk",
        "colab": {
          "base_uri": "https://localhost:8080/",
          "height": 35
        },
        "outputId": "f6c6d678-921b-4dda-ea42-aa91f7d8acb7"
      },
      "source": [
        "\"{0:.4f}\".format(stat.pearsonr(y, y_p)[0])"
      ],
      "execution_count": null,
      "outputs": [
        {
          "output_type": "execute_result",
          "data": {
            "application/vnd.google.colaboratory.intrinsic+json": {
              "type": "string"
            },
            "text/plain": [
              "'0.0177'"
            ]
          },
          "metadata": {
            "tags": []
          },
          "execution_count": 388
        }
      ]
    },
    {
      "cell_type": "code",
      "metadata": {
        "colab": {
          "base_uri": "https://localhost:8080/"
        },
        "id": "WnAbohVIW8ny",
        "outputId": "c953f3bf-ef00-4ac4-f303-6cf6ebe2ca95"
      },
      "source": [
        "stat.pearsonr(y, y_p)"
      ],
      "execution_count": null,
      "outputs": [
        {
          "output_type": "execute_result",
          "data": {
            "text/plain": [
              "(-0.004014593151675796, 0.2530455174063247)"
            ]
          },
          "metadata": {
            "tags": []
          },
          "execution_count": 371
        }
      ]
    },
    {
      "cell_type": "code",
      "metadata": {
        "id": "YRT8Xu_fkqU0",
        "colab": {
          "base_uri": "https://localhost:8080/",
          "height": 717
        },
        "outputId": "e1a812b4-4a52-4f98-c6ca-b15e4aac61fc"
      },
      "source": [
        "fig, ax = plt.subplots(figsize=a4_dims)\n",
        "sns.histplot(y_p)"
      ],
      "execution_count": null,
      "outputs": [
        {
          "output_type": "execute_result",
          "data": {
            "text/plain": [
              "<matplotlib.axes._subplots.AxesSubplot at 0x7f57d2632e10>"
            ]
          },
          "metadata": {
            "tags": []
          },
          "execution_count": 389
        },
        {
          "output_type": "display_data",
          "data": {
            "image/png": "[encoded data removed]",
            "text/plain": [
              "<Figure size 1656x864 with 1 Axes>"
            ]
          },
          "metadata": {
            "tags": [],
            "needs_background": "light"
          }
        }
      ]
    },
    {
      "cell_type": "code",
      "metadata": {
        "id": "TrGYH27zCbjU",
        "colab": {
          "base_uri": "https://localhost:8080/",
          "height": 717
        },
        "outputId": "1ebb6f96-c28f-4f62-ed7e-e0caf43c5df0"
      },
      "source": [
        "fig, ax = plt.subplots(figsize=a4_dims)\n",
        "sns.histplot(y)"
      ],
      "execution_count": null,
      "outputs": [
        {
          "output_type": "execute_result",
          "data": {
            "text/plain": [
              "<matplotlib.axes._subplots.AxesSubplot at 0x7f57d2412ef0>"
            ]
          },
          "metadata": {
            "tags": []
          },
          "execution_count": 390
        },
        {
          "output_type": "display_data",
          "data": {
            "image/png": "[encoded data removed]",
            "text/plain": [
              "<Figure size 1656x864 with 1 Axes>"
            ]
          },
          "metadata": {
            "tags": [],
            "needs_background": "light"
          }
        }
      ]
    }
  ]
}