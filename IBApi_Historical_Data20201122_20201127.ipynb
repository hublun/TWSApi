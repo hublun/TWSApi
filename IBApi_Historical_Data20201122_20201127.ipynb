{
  "nbformat": 4,
  "nbformat_minor": 0,
  "metadata": {
    "colab": {
      "name": "IBApi_Historical_Data20201122_20201127.ipynb",
      "provenance": [],
      "mount_file_id": "1HNf8dRV7N4CYxtEmBQbdDcpZnlQS5C63",
      "authorship_tag": "ABX9TyPWIDQgDPPjnp6BFECxAf8N",
      "include_colab_link": true
    },
    "kernelspec": {
      "name": "python3",
      "display_name": "Python 3"
    }
  },
  "cells": [
    {
      "cell_type": "markdown",
      "metadata": {
        "id": "view-in-github",
        "colab_type": "text"
      },
      "source": [
        "<a href=\"https://colab.research.google.com/github/hublun/TWSApi/blob/master/IBApi_Historical_Data20201122_20201127.ipynb\" target=\"_parent\"><img src=\"https://colab.research.google.com/assets/colab-badge.svg\" alt=\"Open In Colab\"/></a>"
      ]
    },
    {
      "cell_type": "code",
      "metadata": {
        "id": "79ywrl69KOm_"
      },
      "source": [
        "import pandas as pd\n",
        "import scipy.stats as stat\n",
        "import matplotlib.pyplot as plt\n",
        "import seaborn as sns"
      ],
      "execution_count": 1,
      "outputs": []
    },
    {
      "cell_type": "code",
      "metadata": {
        "id": "2KuUAXyYKy4B"
      },
      "source": [
        "df = pd.read_pickle('/content/drive/MyDrive/TWS/M2K_20201122_to_20201127162500.pkl')"
      ],
      "execution_count": 137,
      "outputs": []
    },
    {
      "cell_type": "code",
      "metadata": {
        "id": "9vKyTZux14xO"
      },
      "source": [
        "df[\"Time\"] = pd.to_datetime(df[\"time\"], format='%Y%m%d  %H:%M:%S', yearfirst=True)"
      ],
      "execution_count": 138,
      "outputs": []
    },
    {
      "cell_type": "code",
      "metadata": {
        "id": "XXrTwQWc8lVU"
      },
      "source": [
        "df.drop('time', axis=1, inplace=True)"
      ],
      "execution_count": 139,
      "outputs": []
    },
    {
      "cell_type": "code",
      "metadata": {
        "id": "PLOiWyXp_PHU"
      },
      "source": [
        "df[\"Hour\"] = pd.DatetimeIndex(df[\"Time\"]).hour\n",
        "df[\"Minute\"] = pd.DatetimeIndex(df[\"Time\"]).minute\n",
        "df[\"Second\"] = pd.DatetimeIndex(df[\"Time\"]).second\n",
        "df[\"Day\"] = pd.DatetimeIndex(df[\"Time\"]).day"
      ],
      "execution_count": 140,
      "outputs": []
    },
    {
      "cell_type": "code",
      "metadata": {
        "colab": {
          "base_uri": "https://localhost:8080/"
        },
        "id": "8PNB5h5MFbZQ",
        "outputId": "d1aeeb5d-c1d6-40f0-a62a-ac5d7f80aa8f"
      },
      "source": [
        "initialDateTime = df.Time[0]\n",
        "initialDateTime"
      ],
      "execution_count": 141,
      "outputs": [
        {
          "output_type": "execute_result",
          "data": {
            "text/plain": [
              "Timestamp('2020-11-22 18:00:00')"
            ]
          },
          "metadata": {
            "tags": []
          },
          "execution_count": 141
        }
      ]
    },
    {
      "cell_type": "code",
      "metadata": {
        "id": "QWUTHn8JFrJs"
      },
      "source": [
        "df[\"TradeDay\"] = pd.TimedeltaIndex(df.Time - initialDateTime).days"
      ],
      "execution_count": 142,
      "outputs": []
    },
    {
      "cell_type": "code",
      "metadata": {
        "colab": {
          "base_uri": "https://localhost:8080/",
          "height": 204
        },
        "id": "9OJMRUnYyaBn",
        "outputId": "1f38d66a-4388-427e-f53d-bcceac47c071"
      },
      "source": [
        "df.head()"
      ],
      "execution_count": 143,
      "outputs": [
        {
          "output_type": "execute_result",
          "data": {
            "text/html": [
              "<div>\n",
              "<style scoped>\n",
              "    .dataframe tbody tr th:only-of-type {\n",
              "        vertical-align: middle;\n",
              "    }\n",
              "\n",
              "    .dataframe tbody tr th {\n",
              "        vertical-align: top;\n",
              "    }\n",
              "\n",
              "    .dataframe thead th {\n",
              "        text-align: right;\n",
              "    }\n",
              "</style>\n",
              "<table border=\"1\" class=\"dataframe\">\n",
              "  <thead>\n",
              "    <tr style=\"text-align: right;\">\n",
              "      <th></th>\n",
              "      <th>open</th>\n",
              "      <th>high</th>\n",
              "      <th>low</th>\n",
              "      <th>close</th>\n",
              "      <th>avg</th>\n",
              "      <th>vol</th>\n",
              "      <th>Time</th>\n",
              "      <th>Hour</th>\n",
              "      <th>Minute</th>\n",
              "      <th>Second</th>\n",
              "      <th>Day</th>\n",
              "      <th>TradeDay</th>\n",
              "    </tr>\n",
              "  </thead>\n",
              "  <tbody>\n",
              "    <tr>\n",
              "      <th>0</th>\n",
              "      <td>1782.3</td>\n",
              "      <td>1782.8</td>\n",
              "      <td>1778.1</td>\n",
              "      <td>1779.4</td>\n",
              "      <td>1780.21</td>\n",
              "      <td>106</td>\n",
              "      <td>2020-11-22 18:00:00</td>\n",
              "      <td>18</td>\n",
              "      <td>0</td>\n",
              "      <td>0</td>\n",
              "      <td>22</td>\n",
              "      <td>0</td>\n",
              "    </tr>\n",
              "    <tr>\n",
              "      <th>1</th>\n",
              "      <td>1779.8</td>\n",
              "      <td>1779.9</td>\n",
              "      <td>1777.1</td>\n",
              "      <td>1777.9</td>\n",
              "      <td>1778.27</td>\n",
              "      <td>60</td>\n",
              "      <td>2020-11-22 18:01:00</td>\n",
              "      <td>18</td>\n",
              "      <td>1</td>\n",
              "      <td>0</td>\n",
              "      <td>22</td>\n",
              "      <td>0</td>\n",
              "    </tr>\n",
              "    <tr>\n",
              "      <th>2</th>\n",
              "      <td>1778.0</td>\n",
              "      <td>1779.0</td>\n",
              "      <td>1776.7</td>\n",
              "      <td>1778.7</td>\n",
              "      <td>1777.52</td>\n",
              "      <td>44</td>\n",
              "      <td>2020-11-22 18:02:00</td>\n",
              "      <td>18</td>\n",
              "      <td>2</td>\n",
              "      <td>0</td>\n",
              "      <td>22</td>\n",
              "      <td>0</td>\n",
              "    </tr>\n",
              "    <tr>\n",
              "      <th>3</th>\n",
              "      <td>1778.5</td>\n",
              "      <td>1779.2</td>\n",
              "      <td>1778.5</td>\n",
              "      <td>1778.9</td>\n",
              "      <td>1778.85</td>\n",
              "      <td>27</td>\n",
              "      <td>2020-11-22 18:03:00</td>\n",
              "      <td>18</td>\n",
              "      <td>3</td>\n",
              "      <td>0</td>\n",
              "      <td>22</td>\n",
              "      <td>0</td>\n",
              "    </tr>\n",
              "    <tr>\n",
              "      <th>4</th>\n",
              "      <td>1778.8</td>\n",
              "      <td>1779.5</td>\n",
              "      <td>1778.4</td>\n",
              "      <td>1779.2</td>\n",
              "      <td>1778.95</td>\n",
              "      <td>40</td>\n",
              "      <td>2020-11-22 18:04:00</td>\n",
              "      <td>18</td>\n",
              "      <td>4</td>\n",
              "      <td>0</td>\n",
              "      <td>22</td>\n",
              "      <td>0</td>\n",
              "    </tr>\n",
              "  </tbody>\n",
              "</table>\n",
              "</div>"
            ],
            "text/plain": [
              "     open    high     low   close      avg  ...  Hour Minute  Second  Day  TradeDay\n",
              "0  1782.3  1782.8  1778.1  1779.4  1780.21  ...    18      0       0   22         0\n",
              "1  1779.8  1779.9  1777.1  1777.9  1778.27  ...    18      1       0   22         0\n",
              "2  1778.0  1779.0  1776.7  1778.7  1777.52  ...    18      2       0   22         0\n",
              "3  1778.5  1779.2  1778.5  1778.9  1778.85  ...    18      3       0   22         0\n",
              "4  1778.8  1779.5  1778.4  1779.2  1778.95  ...    18      4       0   22         0\n",
              "\n",
              "[5 rows x 12 columns]"
            ]
          },
          "metadata": {
            "tags": []
          },
          "execution_count": 143
        }
      ]
    },
    {
      "cell_type": "code",
      "metadata": {
        "colab": {
          "base_uri": "https://localhost:8080/"
        },
        "id": "eEcFsInk9v33",
        "outputId": "61b9f9d1-36e8-4f1d-d8f5-6dd6fa8c035c"
      },
      "source": [
        "df.avg.rolling(10, min_periods=1).mean()"
      ],
      "execution_count": 144,
      "outputs": [
        {
          "output_type": "execute_result",
          "data": {
            "text/plain": [
              "0       1780.210000\n",
              "1       1779.240000\n",
              "2       1778.666667\n",
              "3       1778.712500\n",
              "4       1778.760000\n",
              "           ...     \n",
              "6385    1853.294000\n",
              "6386    1853.147000\n",
              "6387    1853.032000\n",
              "6388    1852.944000\n",
              "6389    1853.204000\n",
              "Name: avg, Length: 6390, dtype: float64"
            ]
          },
          "metadata": {
            "tags": []
          },
          "execution_count": 144
        }
      ]
    },
    {
      "cell_type": "code",
      "metadata": {
        "id": "4GM4Og6c-81v"
      },
      "source": [
        "df[\"mu30min\"] = df.avg.rolling(window=30, min_periods=1).mean()\n",
        "df[\"mu10min\"] = df.avg.rolling(window=10, min_periods=1).mean()\n",
        "\n",
        "df[\"mu5min\"] = df.avg.rolling(window=2, min_periods=1).mean()\n",
        "df[\"mu2min\"] = df.avg.rolling(window=2, min_periods=1).mean()\n",
        "df[\"dev\"] = df.close - df.open\n",
        "\n",
        "df[\"delta2m\"] = df.avg - df.mu2min\n",
        "df[\"delta5m\"] = df.avg - df.mu5min\n",
        "df[\"delta10m\"] = df.avg - df.mu10min\n",
        "df[\"delta30m\"] = df.avg - df.mu30min"
      ],
      "execution_count": 165,
      "outputs": []
    },
    {
      "cell_type": "code",
      "metadata": {
        "colab": {
          "base_uri": "https://localhost:8080/",
          "height": 204
        },
        "id": "RimX3lQE_PoH",
        "outputId": "453575a7-847b-4cea-b027-87d595c77a26"
      },
      "source": [
        "df.head()"
      ],
      "execution_count": 146,
      "outputs": [
        {
          "output_type": "execute_result",
          "data": {
            "text/html": [
              "<div>\n",
              "<style scoped>\n",
              "    .dataframe tbody tr th:only-of-type {\n",
              "        vertical-align: middle;\n",
              "    }\n",
              "\n",
              "    .dataframe tbody tr th {\n",
              "        vertical-align: top;\n",
              "    }\n",
              "\n",
              "    .dataframe thead th {\n",
              "        text-align: right;\n",
              "    }\n",
              "</style>\n",
              "<table border=\"1\" class=\"dataframe\">\n",
              "  <thead>\n",
              "    <tr style=\"text-align: right;\">\n",
              "      <th></th>\n",
              "      <th>open</th>\n",
              "      <th>high</th>\n",
              "      <th>low</th>\n",
              "      <th>close</th>\n",
              "      <th>avg</th>\n",
              "      <th>vol</th>\n",
              "      <th>Time</th>\n",
              "      <th>Hour</th>\n",
              "      <th>Minute</th>\n",
              "      <th>Second</th>\n",
              "      <th>Day</th>\n",
              "      <th>TradeDay</th>\n",
              "      <th>mu30min</th>\n",
              "      <th>mu10min</th>\n",
              "      <th>mu5min</th>\n",
              "      <th>mu2min</th>\n",
              "      <th>dev</th>\n",
              "    </tr>\n",
              "  </thead>\n",
              "  <tbody>\n",
              "    <tr>\n",
              "      <th>0</th>\n",
              "      <td>1782.3</td>\n",
              "      <td>1782.8</td>\n",
              "      <td>1778.1</td>\n",
              "      <td>1779.4</td>\n",
              "      <td>1780.21</td>\n",
              "      <td>106</td>\n",
              "      <td>2020-11-22 18:00:00</td>\n",
              "      <td>18</td>\n",
              "      <td>0</td>\n",
              "      <td>0</td>\n",
              "      <td>22</td>\n",
              "      <td>0</td>\n",
              "      <td>1780.210000</td>\n",
              "      <td>1780.210000</td>\n",
              "      <td>1780.210</td>\n",
              "      <td>1780.210</td>\n",
              "      <td>-2.9</td>\n",
              "    </tr>\n",
              "    <tr>\n",
              "      <th>1</th>\n",
              "      <td>1779.8</td>\n",
              "      <td>1779.9</td>\n",
              "      <td>1777.1</td>\n",
              "      <td>1777.9</td>\n",
              "      <td>1778.27</td>\n",
              "      <td>60</td>\n",
              "      <td>2020-11-22 18:01:00</td>\n",
              "      <td>18</td>\n",
              "      <td>1</td>\n",
              "      <td>0</td>\n",
              "      <td>22</td>\n",
              "      <td>0</td>\n",
              "      <td>1779.240000</td>\n",
              "      <td>1779.240000</td>\n",
              "      <td>1779.240</td>\n",
              "      <td>1779.240</td>\n",
              "      <td>-1.9</td>\n",
              "    </tr>\n",
              "    <tr>\n",
              "      <th>2</th>\n",
              "      <td>1778.0</td>\n",
              "      <td>1779.0</td>\n",
              "      <td>1776.7</td>\n",
              "      <td>1778.7</td>\n",
              "      <td>1777.52</td>\n",
              "      <td>44</td>\n",
              "      <td>2020-11-22 18:02:00</td>\n",
              "      <td>18</td>\n",
              "      <td>2</td>\n",
              "      <td>0</td>\n",
              "      <td>22</td>\n",
              "      <td>0</td>\n",
              "      <td>1778.666667</td>\n",
              "      <td>1778.666667</td>\n",
              "      <td>1777.895</td>\n",
              "      <td>1777.895</td>\n",
              "      <td>0.7</td>\n",
              "    </tr>\n",
              "    <tr>\n",
              "      <th>3</th>\n",
              "      <td>1778.5</td>\n",
              "      <td>1779.2</td>\n",
              "      <td>1778.5</td>\n",
              "      <td>1778.9</td>\n",
              "      <td>1778.85</td>\n",
              "      <td>27</td>\n",
              "      <td>2020-11-22 18:03:00</td>\n",
              "      <td>18</td>\n",
              "      <td>3</td>\n",
              "      <td>0</td>\n",
              "      <td>22</td>\n",
              "      <td>0</td>\n",
              "      <td>1778.712500</td>\n",
              "      <td>1778.712500</td>\n",
              "      <td>1778.185</td>\n",
              "      <td>1778.185</td>\n",
              "      <td>0.4</td>\n",
              "    </tr>\n",
              "    <tr>\n",
              "      <th>4</th>\n",
              "      <td>1778.8</td>\n",
              "      <td>1779.5</td>\n",
              "      <td>1778.4</td>\n",
              "      <td>1779.2</td>\n",
              "      <td>1778.95</td>\n",
              "      <td>40</td>\n",
              "      <td>2020-11-22 18:04:00</td>\n",
              "      <td>18</td>\n",
              "      <td>4</td>\n",
              "      <td>0</td>\n",
              "      <td>22</td>\n",
              "      <td>0</td>\n",
              "      <td>1778.760000</td>\n",
              "      <td>1778.760000</td>\n",
              "      <td>1778.900</td>\n",
              "      <td>1778.900</td>\n",
              "      <td>0.4</td>\n",
              "    </tr>\n",
              "  </tbody>\n",
              "</table>\n",
              "</div>"
            ],
            "text/plain": [
              "     open    high     low   close  ...      mu10min    mu5min    mu2min  dev\n",
              "0  1782.3  1782.8  1778.1  1779.4  ...  1780.210000  1780.210  1780.210 -2.9\n",
              "1  1779.8  1779.9  1777.1  1777.9  ...  1779.240000  1779.240  1779.240 -1.9\n",
              "2  1778.0  1779.0  1776.7  1778.7  ...  1778.666667  1777.895  1777.895  0.7\n",
              "3  1778.5  1779.2  1778.5  1778.9  ...  1778.712500  1778.185  1778.185  0.4\n",
              "4  1778.8  1779.5  1778.4  1779.2  ...  1778.760000  1778.900  1778.900  0.4\n",
              "\n",
              "[5 rows x 17 columns]"
            ]
          },
          "metadata": {
            "tags": []
          },
          "execution_count": 146
        }
      ]
    },
    {
      "cell_type": "code",
      "metadata": {
        "id": "jxpaOT0XPdAv"
      },
      "source": [
        "\n",
        "df[\"pbmin\"] = (df.avg - df.avg.shift(periods=1)).fillna(0.0)\n",
        "df[\"pb5min\"] = (df.avg - df.avg.shift(periods=5)).fillna(0.0)\n",
        "df[\"pb10min\"] = (df.avg - df.avg.shift(periods=10)).fillna(0.0)\n",
        "df[\"pb15min\"] = (df.avg - df.avg.shift(periods=15)).fillna(0.0)\n",
        "df[\"pb30min\"] = (df.avg - df.avg.shift(periods=30)).fillna(0.0)\n",
        "df.head()"
      ],
      "execution_count": null,
      "outputs": []
    },
    {
      "cell_type": "code",
      "metadata": {
        "id": "Q6IDVkutz2tF"
      },
      "source": [
        "df[\"pfmin\"] = (df.avg.shift(-1)-df.avg).fillna(0.0)\n",
        "df[\"pf2min\"] = (df.avg.shift(-2)-df.avg).fillna(0.0)\n",
        "df[\"pf5min\"] = (df.avg.shift(-5)-df.avg).fillna(0.0)\n",
        "df[\"pf10min\"] = (df.avg.shift(-10)-df.avg).fillna(0.0)\n",
        "df[\"pf15min\"] = (df.avg.shift(-15)-df.avg).fillna(0.0)\n",
        "df.tail()"
      ],
      "execution_count": null,
      "outputs": []
    },
    {
      "cell_type": "code",
      "metadata": {
        "id": "F_8SNQm_zxnI"
      },
      "source": [
        "a4_dims = (23,12)\n",
        "fig, ax = plt.subplots(figsize=a4_dims)\n",
        "sns.scatterplot(x=df.pb10min, y=df.pfmin)"
      ],
      "execution_count": null,
      "outputs": []
    },
    {
      "cell_type": "code",
      "metadata": {
        "id": "-8-rH6VyW9Cg"
      },
      "source": [
        "df.columns[12:22]"
      ],
      "execution_count": null,
      "outputs": []
    },
    {
      "cell_type": "code",
      "metadata": {
        "id": "7XjTCrVoRhVl"
      },
      "source": [
        "df.drop(df.head(30).index, inplace=True)\n",
        "df.drop(df.head(15).index, inplace=True)"
      ],
      "execution_count": 181,
      "outputs": []
    },
    {
      "cell_type": "code",
      "metadata": {
        "id": "w6DmFwkOYhu4"
      },
      "source": [
        "df.shape[0]"
      ],
      "execution_count": null,
      "outputs": []
    },
    {
      "cell_type": "code",
      "metadata": {
        "colab": {
          "base_uri": "https://localhost:8080/"
        },
        "id": "SfhqgVmyXGZf",
        "outputId": "4b2b33a3-8336-4fa5-933d-0de166d5354c"
      },
      "source": [
        "df_corr = df[df.columns[11:22]]\n",
        "df_corr.drop(df_corr.head(60).index, inplace=True)\n",
        "df_corr.drop(df_corr.tail(15).index, inplace=True)"
      ],
      "execution_count": 62,
      "outputs": [
        {
          "output_type": "stream",
          "text": [
            "/usr/local/lib/python3.6/dist-packages/pandas/core/frame.py:4174: SettingWithCopyWarning: \n",
            "A value is trying to be set on a copy of a slice from a DataFrame\n",
            "\n",
            "See the caveats in the documentation: https://pandas.pydata.org/pandas-docs/stable/user_guide/indexing.html#returning-a-view-versus-a-copy\n",
            "  errors=errors,\n"
          ],
          "name": "stderr"
        }
      ]
    },
    {
      "cell_type": "code",
      "metadata": {
        "id": "Y3Lswl8TP806"
      },
      "source": [
        "df_corr.head()"
      ],
      "execution_count": null,
      "outputs": []
    },
    {
      "cell_type": "code",
      "metadata": {
        "id": "1LcS2HBaom08"
      },
      "source": [
        "df_corr.corr()"
      ],
      "execution_count": null,
      "outputs": []
    },
    {
      "cell_type": "code",
      "metadata": {
        "colab": {
          "base_uri": "https://localhost:8080/",
          "height": 359
        },
        "id": "fcmXoUUPD9ae",
        "outputId": "8db74623-426a-4a78-c8dc-df84e3ad6ead"
      },
      "source": [
        "import statsmodels.formula.api as smf\n",
        "lm = smf.ols(formula=\"pf10min~dev+delta5m+delta30m\", data=df).fit()\n",
        "lm.params\n",
        "lm.summary2()"
      ],
      "execution_count": 185,
      "outputs": [
        {
          "output_type": "execute_result",
          "data": {
            "text/html": [
              "<table class=\"simpletable\">\n",
              "<tr>\n",
              "        <td>Model:</td>               <td>OLS</td>         <td>Adj. R-squared:</td>      <td>0.013</td>  \n",
              "</tr>\n",
              "<tr>\n",
              "  <td>Dependent Variable:</td>      <td>pf10min</td>            <td>AIC:</td>         <td>24080.2788</td>\n",
              "</tr>\n",
              "<tr>\n",
              "         <td>Date:</td>        <td>2020-12-05 19:01</td>        <td>BIC:</td>         <td>24107.2816</td>\n",
              "</tr>\n",
              "<tr>\n",
              "   <td>No. Observations:</td>        <td>6315</td>         <td>Log-Likelihood:</td>     <td>-12036.</td> \n",
              "</tr>\n",
              "<tr>\n",
              "       <td>Df Model:</td>              <td>3</td>           <td>F-statistic:</td>        <td>28.95</td>  \n",
              "</tr>\n",
              "<tr>\n",
              "     <td>Df Residuals:</td>          <td>6311</td>       <td>Prob (F-statistic):</td>  <td>1.38e-18</td> \n",
              "</tr>\n",
              "<tr>\n",
              "      <td>R-squared:</td>            <td>0.014</td>            <td>Scale:</td>          <td>2.6503</td>  \n",
              "</tr>\n",
              "</table>\n",
              "<table class=\"simpletable\">\n",
              "<tr>\n",
              "      <td></td>       <th>Coef.</th>  <th>Std.Err.</th>    <th>t</th>     <th>P>|t|</th> <th>[0.025</th>  <th>0.975]</th> \n",
              "</tr>\n",
              "<tr>\n",
              "  <th>Intercept</th> <td>0.1086</td>   <td>0.0206</td>  <td>5.2744</td>  <td>0.0000</td> <td>0.0682</td>  <td>0.1489</td> \n",
              "</tr>\n",
              "<tr>\n",
              "  <th>dev</th>       <td>0.4375</td>   <td>0.0504</td>  <td>8.6784</td>  <td>0.0000</td> <td>0.3387</td>  <td>0.5363</td> \n",
              "</tr>\n",
              "<tr>\n",
              "  <th>delta5m</th>   <td>-0.5291</td>  <td>0.1106</td>  <td>-4.7834</td> <td>0.0000</td> <td>-0.7460</td> <td>-0.3123</td>\n",
              "</tr>\n",
              "<tr>\n",
              "  <th>delta30m</th>  <td>-0.0436</td>  <td>0.0137</td>  <td>-3.1843</td> <td>0.0015</td> <td>-0.0704</td> <td>-0.0168</td>\n",
              "</tr>\n",
              "</table>\n",
              "<table class=\"simpletable\">\n",
              "<tr>\n",
              "     <td>Omnibus:</td>    <td>537.701</td>  <td>Durbin-Watson:</td>     <td>0.197</td> \n",
              "</tr>\n",
              "<tr>\n",
              "  <td>Prob(Omnibus):</td>  <td>0.000</td>  <td>Jarque-Bera (JB):</td> <td>3037.476</td>\n",
              "</tr>\n",
              "<tr>\n",
              "       <td>Skew:</td>      <td>0.184</td>      <td>Prob(JB):</td>       <td>0.000</td> \n",
              "</tr>\n",
              "<tr>\n",
              "     <td>Kurtosis:</td>    <td>6.378</td>   <td>Condition No.:</td>       <td>9</td>   \n",
              "</tr>\n",
              "</table>"
            ],
            "text/plain": [
              "<class 'statsmodels.iolib.summary2.Summary'>\n",
              "\"\"\"\n",
              "                  Results: Ordinary least squares\n",
              "===================================================================\n",
              "Model:              OLS              Adj. R-squared:     0.013     \n",
              "Dependent Variable: pf10min          AIC:                24080.2788\n",
              "Date:               2020-12-05 19:01 BIC:                24107.2816\n",
              "No. Observations:   6315             Log-Likelihood:     -12036.   \n",
              "Df Model:           3                F-statistic:        28.95     \n",
              "Df Residuals:       6311             Prob (F-statistic): 1.38e-18  \n",
              "R-squared:          0.014            Scale:              2.6503    \n",
              "---------------------------------------------------------------------\n",
              "             Coef.    Std.Err.      t      P>|t|     [0.025    0.975]\n",
              "---------------------------------------------------------------------\n",
              "Intercept    0.1086     0.0206    5.2744   0.0000    0.0682    0.1489\n",
              "dev          0.4375     0.0504    8.6784   0.0000    0.3387    0.5363\n",
              "delta5m     -0.5291     0.1106   -4.7834   0.0000   -0.7460   -0.3123\n",
              "delta30m    -0.0436     0.0137   -3.1843   0.0015   -0.0704   -0.0168\n",
              "-------------------------------------------------------------------\n",
              "Omnibus:             537.701       Durbin-Watson:          0.197   \n",
              "Prob(Omnibus):       0.000         Jarque-Bera (JB):       3037.476\n",
              "Skew:                0.184         Prob(JB):               0.000   \n",
              "Kurtosis:            6.378         Condition No.:          9       \n",
              "===================================================================\n",
              "\n",
              "\"\"\""
            ]
          },
          "metadata": {
            "tags": []
          },
          "execution_count": 185
        }
      ]
    },
    {
      "cell_type": "code",
      "metadata": {
        "colab": {
          "base_uri": "https://localhost:8080/",
          "height": 35
        },
        "id": "0O2BFM6B2Ckk",
        "outputId": "c7f62fc9-f2b3-4505-fc26-4d835d52f8f1"
      },
      "source": [
        "\"{0:.2f}%\".format(100*df.pfmin[ abs(df.pfmin)< 1].shape[0]/df.shape[0])"
      ],
      "execution_count": 59,
      "outputs": [
        {
          "output_type": "execute_result",
          "data": {
            "application/vnd.google.colaboratory.intrinsic+json": {
              "type": "string"
            },
            "text/plain": [
              "'94.24%'"
            ]
          },
          "metadata": {
            "tags": []
          },
          "execution_count": 59
        }
      ]
    },
    {
      "cell_type": "code",
      "metadata": {
        "colab": {
          "base_uri": "https://localhost:8080/",
          "height": 785
        },
        "id": "YRT8Xu_fkqU0",
        "outputId": "d7b1f7c5-35ce-4ff4-a525-f031f1253a37"
      },
      "source": [
        "fig, ax = plt.subplots(figsize=a4_dims)\n",
        "sns.kdeplot(df.mu10min, shade=True, vertical=True, color=\"red\")"
      ],
      "execution_count": 178,
      "outputs": [
        {
          "output_type": "stream",
          "text": [
            "/usr/local/lib/python3.6/dist-packages/seaborn/distributions.py:1649: FutureWarning: The `vertical` parameter is deprecated and will be removed in a future version. Assign the data to the `y` variable instead.\n",
            "  warnings.warn(msg, FutureWarning)\n"
          ],
          "name": "stderr"
        },
        {
          "output_type": "execute_result",
          "data": {
            "text/plain": [
              "<matplotlib.axes._subplots.AxesSubplot at 0x7f57d63170b8>"
            ]
          },
          "metadata": {
            "tags": []
          },
          "execution_count": 178
        },
        {
          "output_type": "display_data",
          "data": {
            "image/png": "[encoded data removed]",
            "text/plain": [
              "<Figure size 936x864 with 1 Axes>"
            ]
          },
          "metadata": {
            "tags": [],
            "needs_background": "light"
          }
        }
      ]
    }
  ]
}