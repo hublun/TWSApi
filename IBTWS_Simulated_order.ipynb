{
  "nbformat": 4,
  "nbformat_minor": 0,
  "metadata": {
    "colab": {
      "name": "IBTWS_Simulated_order.ipynb",
      "provenance": [],
      "authorship_tag": "ABX9TyPg418apfyIbpEpctT9kj+T",
      "include_colab_link": true
    },
    "kernelspec": {
      "name": "python3",
      "display_name": "Python 3"
    }
  },
  "cells": [
    {
      "cell_type": "markdown",
      "metadata": {
        "id": "view-in-github",
        "colab_type": "text"
      },
      "source": [
        "<a href=\"https://colab.research.google.com/github/hublun/TWSApi/blob/master/IBTWS_Simulated_order.ipynb\" target=\"_parent\"><img src=\"https://colab.research.google.com/assets/colab-badge.svg\" alt=\"Open In Colab\"/></a>"
      ]
    },
    {
      "cell_type": "code",
      "metadata": {
        "id": "Jq5fQ7_G0Wyg"
      },
      "source": [
        "import pandas as pd"
      ],
      "execution_count": 1,
      "outputs": []
    },
    {
      "cell_type": "code",
      "metadata": {
        "id": "tlZapduX0qo8"
      },
      "source": [
        "df = pd.read_pickle('/content/SimulatedOrders.pkl')"
      ],
      "execution_count": 55,
      "outputs": []
    },
    {
      "cell_type": "code",
      "metadata": {
        "id": "aaR6gJhL6LwO"
      },
      "source": [
        "df[\"datetime\"] = pd.to_datetime(df.time, unit='s')-pd.Timedelta('05:00:00')"
      ],
      "execution_count": 56,
      "outputs": []
    },
    {
      "cell_type": "code",
      "metadata": {
        "id": "yu0e_TXeATxE"
      },
      "source": [
        "df.drop(df.columns[0], axis=1, inplace=True)"
      ],
      "execution_count": 57,
      "outputs": []
    },
    {
      "cell_type": "code",
      "metadata": {
        "id": "fT1-XUq3BoAZ"
      },
      "source": [
        "df[\"P/L\"] = pd.DataFrame.cumsum(df.type*df.price)\n",
        "df[\"Pos\"] =  df.type.cumsum()"
      ],
      "execution_count": 61,
      "outputs": []
    },
    {
      "cell_type": "code",
      "metadata": {
        "colab": {
          "base_uri": "https://localhost:8080/",
          "height": 204
        },
        "id": "Ibes7VUsCUVJ",
        "outputId": "b15b2449-af43-419b-c6d4-bba499904777"
      },
      "source": [
        "df.head()"
      ],
      "execution_count": 62,
      "outputs": [
        {
          "output_type": "execute_result",
          "data": {
            "text/html": [
              "<div>\n",
              "<style scoped>\n",
              "    .dataframe tbody tr th:only-of-type {\n",
              "        vertical-align: middle;\n",
              "    }\n",
              "\n",
              "    .dataframe tbody tr th {\n",
              "        vertical-align: top;\n",
              "    }\n",
              "\n",
              "    .dataframe thead th {\n",
              "        text-align: right;\n",
              "    }\n",
              "</style>\n",
              "<table border=\"1\" class=\"dataframe\">\n",
              "  <thead>\n",
              "    <tr style=\"text-align: right;\">\n",
              "      <th></th>\n",
              "      <th>type</th>\n",
              "      <th>price</th>\n",
              "      <th>datetime</th>\n",
              "      <th>P/L</th>\n",
              "      <th>Pos</th>\n",
              "    </tr>\n",
              "  </thead>\n",
              "  <tbody>\n",
              "    <tr>\n",
              "      <th>0</th>\n",
              "      <td>-1.0</td>\n",
              "      <td>1894.60</td>\n",
              "      <td>2020-12-06 20:44:05</td>\n",
              "      <td>-1894.60</td>\n",
              "      <td>-1.0</td>\n",
              "    </tr>\n",
              "    <tr>\n",
              "      <th>1</th>\n",
              "      <td>-1.0</td>\n",
              "      <td>1894.00</td>\n",
              "      <td>2020-12-06 21:01:45</td>\n",
              "      <td>-3788.60</td>\n",
              "      <td>-2.0</td>\n",
              "    </tr>\n",
              "    <tr>\n",
              "      <th>2</th>\n",
              "      <td>1.0</td>\n",
              "      <td>1893.20</td>\n",
              "      <td>2020-12-06 21:16:25</td>\n",
              "      <td>-1895.40</td>\n",
              "      <td>-1.0</td>\n",
              "    </tr>\n",
              "    <tr>\n",
              "      <th>3</th>\n",
              "      <td>1.0</td>\n",
              "      <td>1892.50</td>\n",
              "      <td>2020-12-06 21:27:50</td>\n",
              "      <td>-2.90</td>\n",
              "      <td>0.0</td>\n",
              "    </tr>\n",
              "    <tr>\n",
              "      <th>4</th>\n",
              "      <td>1.0</td>\n",
              "      <td>1891.35</td>\n",
              "      <td>2020-12-06 21:30:00</td>\n",
              "      <td>1888.45</td>\n",
              "      <td>1.0</td>\n",
              "    </tr>\n",
              "  </tbody>\n",
              "</table>\n",
              "</div>"
            ],
            "text/plain": [
              "   type    price            datetime      P/L  Pos\n",
              "0  -1.0  1894.60 2020-12-06 20:44:05 -1894.60 -1.0\n",
              "1  -1.0  1894.00 2020-12-06 21:01:45 -3788.60 -2.0\n",
              "2   1.0  1893.20 2020-12-06 21:16:25 -1895.40 -1.0\n",
              "3   1.0  1892.50 2020-12-06 21:27:50    -2.90  0.0\n",
              "4   1.0  1891.35 2020-12-06 21:30:00  1888.45  1.0"
            ]
          },
          "metadata": {
            "tags": []
          },
          "execution_count": 62
        }
      ]
    }
  ]
}