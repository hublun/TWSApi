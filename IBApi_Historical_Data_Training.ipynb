{
  "nbformat": 4,
  "nbformat_minor": 0,
  "metadata": {
    "colab": {
      "name": "IBApi_Historical_Data_Training.ipynb",
      "provenance": [],
      "mount_file_id": "1HNf8dRV7N4CYxtEmBQbdDcpZnlQS5C63",
      "authorship_tag": "ABX9TyNlgY/JNozU9x1DC8XsY3LO",
      "include_colab_link": true
    },
    "kernelspec": {
      "name": "python3",
      "display_name": "Python 3"
    }
  },
  "cells": [
    {
      "cell_type": "markdown",
      "metadata": {
        "id": "view-in-github",
        "colab_type": "text"
      },
      "source": [
        "<a href=\"https://colab.research.google.com/github/hublun/TWSApi/blob/master/IBApi_Historical_Data_Training.ipynb\" target=\"_parent\"><img src=\"https://colab.research.google.com/assets/colab-badge.svg\" alt=\"Open In Colab\"/></a>"
      ]
    },
    {
      "cell_type": "code",
      "metadata": {
        "id": "79ywrl69KOm_"
      },
      "source": [
        "import pandas as pd\n",
        "import scipy.stats as stat\n",
        "import matplotlib.pyplot as plt\n",
        "import seaborn as sns"
      ],
      "execution_count": 287,
      "outputs": []
    },
    {
      "cell_type": "code",
      "metadata": {
        "id": "2KuUAXyYKy4B"
      },
      "source": [
        "df = pd.read_pickle('/content/drive/MyDrive/TWS/M2K20201130_1204.pkl')"
      ],
      "execution_count": null,
      "outputs": []
    },
    {
      "cell_type": "code",
      "metadata": {
        "id": "9vKyTZux14xO"
      },
      "source": [
        "df[\"Time\"] = pd.to_datetime(df[\"time\"], format='%Y%m%d  %H:%M:%S', yearfirst=True)"
      ],
      "execution_count": null,
      "outputs": []
    },
    {
      "cell_type": "code",
      "metadata": {
        "id": "XXrTwQWc8lVU"
      },
      "source": [
        "df.drop('time', axis=1, inplace=True)"
      ],
      "execution_count": null,
      "outputs": []
    },
    {
      "cell_type": "code",
      "metadata": {
        "id": "PLOiWyXp_PHU"
      },
      "source": [
        "df[\"Hour\"] = pd.DatetimeIndex(df[\"Time\"]).hour\n",
        "df[\"Minute\"] = pd.DatetimeIndex(df[\"Time\"]).minute\n",
        "df[\"Second\"] = pd.DatetimeIndex(df[\"Time\"]).second\n",
        "df[\"Day\"] = pd.DatetimeIndex(df[\"Time\"]).day"
      ],
      "execution_count": null,
      "outputs": []
    },
    {
      "cell_type": "code",
      "metadata": {
        "colab": {
          "base_uri": "https://localhost:8080/"
        },
        "id": "8PNB5h5MFbZQ",
        "outputId": "bfce38b5-f903-45d5-f68f-728b7b2e4b22"
      },
      "source": [
        "initialDateTime = df.Time[0]\n",
        "initialDateTime"
      ],
      "execution_count": null,
      "outputs": [
        {
          "output_type": "execute_result",
          "data": {
            "text/plain": [
              "Timestamp('2020-11-29 18:00:00')"
            ]
          },
          "metadata": {
            "tags": []
          },
          "execution_count": 191
        }
      ]
    },
    {
      "cell_type": "code",
      "metadata": {
        "id": "QWUTHn8JFrJs"
      },
      "source": [
        "df[\"TradeDay\"] = pd.TimedeltaIndex(df.Time - initialDateTime).days"
      ],
      "execution_count": null,
      "outputs": []
    },
    {
      "cell_type": "code",
      "metadata": {
        "id": "9OJMRUnYyaBn"
      },
      "source": [
        "df.head()"
      ],
      "execution_count": null,
      "outputs": []
    },
    {
      "cell_type": "code",
      "metadata": {
        "id": "4GM4Og6c-81v"
      },
      "source": [
        "df[\"mu10min\"] = df.avg.rolling(window=120, min_periods=1).mean()\n",
        "\n",
        "df[\"mu5min\"] = df.avg.rolling(window=60, min_periods=1).mean()\n",
        "df[\"mu2min\"] = df.avg.rolling(window=24, min_periods=1).mean()\n",
        "df[\"mumin\"] = df.avg.rolling(window=12, min_periods=1).mean()\n",
        "df[\"dev\"] = df.close - df.open\n",
        "\n",
        "df[\"delta1m\"] = df.avg - df.mumin\n",
        "df[\"delta2m\"] = df.avg - df.mu2min\n",
        "\n",
        "df[\"delta5m\"] = df.avg - df.mu5min\n",
        "df[\"delta10m\"] = df.avg - df.mu10min\n",
        " "
      ],
      "execution_count": null,
      "outputs": []
    },
    {
      "cell_type": "code",
      "metadata": {
        "id": "RimX3lQE_PoH"
      },
      "source": [
        "df.head()"
      ],
      "execution_count": null,
      "outputs": []
    },
    {
      "cell_type": "code",
      "metadata": {
        "id": "jxpaOT0XPdAv"
      },
      "source": [
        "\n",
        "df[\"pbmin\"] = (df.avg - df.avg.shift(periods=12)).fillna(0.0)\n",
        "df[\"pb5min\"] = (df.avg - df.avg.shift(periods=5*12)).fillna(0.0)\n",
        "df[\"pb10min\"] = (df.avg - df.avg.shift(periods=10*12)).fillna(0.0)\n",
        "df[\"pb15min\"] = (df.avg - df.avg.shift(periods=15*12)).fillna(0.0)\n",
        "df[\"pb30min\"] = (df.avg - df.avg.shift(periods=30*12)).fillna(0.0)\n",
        "df.head()"
      ],
      "execution_count": null,
      "outputs": []
    },
    {
      "cell_type": "code",
      "metadata": {
        "id": "Q6IDVkutz2tF"
      },
      "source": [
        "df[\"pfmin\"] = (df.avg.shift(-12)-df.avg).fillna(0.0)\n",
        "df[\"pf2min\"] = (df.avg.shift(-2*12)-df.avg).fillna(0.0)\n",
        "df[\"pf5min\"] = (df.avg.shift(-5*12)-df.avg).fillna(0.0)\n",
        "df[\"pf10min\"] = (df.avg.shift(-10*12)-df.avg).fillna(0.0)\n",
        "df[\"pf15min\"] = (df.avg.shift(-15*12)-df.avg).fillna(0.0)\n",
        "df.tail()"
      ],
      "execution_count": null,
      "outputs": []
    },
    {
      "cell_type": "code",
      "metadata": {
        "id": "F_8SNQm_zxnI"
      },
      "source": [
        "a4_dims = (23,12)\n",
        "fig, ax = plt.subplots(figsize=a4_dims)\n",
        "sns.scatterplot(x=df.pfmin, y=df.delta1m)"
      ],
      "execution_count": null,
      "outputs": []
    },
    {
      "cell_type": "code",
      "metadata": {
        "id": "-8-rH6VyW9Cg"
      },
      "source": [
        "df.columns[11:33]"
      ],
      "execution_count": null,
      "outputs": []
    },
    {
      "cell_type": "code",
      "metadata": {
        "id": "7XjTCrVoRhVl"
      },
      "source": [
        "df.drop(df.head(30*12).index, inplace=True)\n",
        "df.drop(df.tail(15*12).index, inplace=True)"
      ],
      "execution_count": null,
      "outputs": []
    },
    {
      "cell_type": "code",
      "metadata": {
        "colab": {
          "base_uri": "https://localhost:8080/"
        },
        "id": "w6DmFwkOYhu4",
        "outputId": "7aaa4861-7899-421b-9737-770959383155"
      },
      "source": [
        "df.shape[0]"
      ],
      "execution_count": null,
      "outputs": [
        {
          "output_type": "execute_result",
          "data": {
            "text/plain": [
              "80947"
            ]
          },
          "metadata": {
            "tags": []
          },
          "execution_count": 203
        }
      ]
    },
    {
      "cell_type": "code",
      "metadata": {
        "id": "SfhqgVmyXGZf"
      },
      "source": [
        "df_corr = df[df.columns[11:33]]\n",
        " "
      ],
      "execution_count": null,
      "outputs": []
    },
    {
      "cell_type": "code",
      "metadata": {
        "id": "Y3Lswl8TP806"
      },
      "source": [
        "df_corr.head()"
      ],
      "execution_count": null,
      "outputs": []
    },
    {
      "cell_type": "code",
      "metadata": {
        "id": "1LcS2HBaom08"
      },
      "source": [
        "df_corr.corr()"
      ],
      "execution_count": null,
      "outputs": []
    },
    {
      "cell_type": "code",
      "metadata": {
        "colab": {
          "base_uri": "https://localhost:8080/",
          "height": 359
        },
        "id": "fcmXoUUPD9ae",
        "outputId": "3b68b193-f7ab-4307-9fc9-c8ffb4459758"
      },
      "source": [
        "import statsmodels.formula.api as smf\n",
        "lm = smf.ols(formula=\"pfmin~dev+delta5m+delta10m\", data=df).fit()\n",
        "lm.params\n",
        "lm.summary2()"
      ],
      "execution_count": 283,
      "outputs": [
        {
          "output_type": "execute_result",
          "data": {
            "text/html": [
              "<table class=\"simpletable\">\n",
              "<tr>\n",
              "        <td>Model:</td>               <td>OLS</td>         <td>Adj. R-squared:</td>      <td>0.009</td>   \n",
              "</tr>\n",
              "<tr>\n",
              "  <td>Dependent Variable:</td>       <td>pfmin</td>             <td>AIC:</td>         <td>151730.0499</td>\n",
              "</tr>\n",
              "<tr>\n",
              "         <td>Date:</td>        <td>2020-12-05 22:29</td>        <td>BIC:</td>         <td>151767.2561</td>\n",
              "</tr>\n",
              "<tr>\n",
              "   <td>No. Observations:</td>        <td>80947</td>        <td>Log-Likelihood:</td>     <td>-75861.</td>  \n",
              "</tr>\n",
              "<tr>\n",
              "       <td>Df Model:</td>              <td>3</td>           <td>F-statistic:</td>        <td>246.2</td>   \n",
              "</tr>\n",
              "<tr>\n",
              "     <td>Df Residuals:</td>          <td>80943</td>      <td>Prob (F-statistic):</td>  <td>4.53e-159</td> \n",
              "</tr>\n",
              "<tr>\n",
              "      <td>R-squared:</td>            <td>0.009</td>            <td>Scale:</td>          <td>0.38156</td>  \n",
              "</tr>\n",
              "</table>\n",
              "<table class=\"simpletable\">\n",
              "<tr>\n",
              "      <td></td>       <th>Coef.</th>  <th>Std.Err.</th>    <th>t</th>     <th>P>|t|</th> <th>[0.025</th>  <th>0.975]</th> \n",
              "</tr>\n",
              "<tr>\n",
              "  <th>Intercept</th> <td>0.0057</td>   <td>0.0022</td>  <td>2.6144</td>  <td>0.0089</td> <td>0.0014</td>  <td>0.0099</td> \n",
              "</tr>\n",
              "<tr>\n",
              "  <th>dev</th>       <td>0.4088</td>   <td>0.0154</td>  <td>26.5700</td> <td>0.0000</td> <td>0.3786</td>  <td>0.4389</td> \n",
              "</tr>\n",
              "<tr>\n",
              "  <th>delta5m</th>   <td>0.0089</td>   <td>0.0058</td>  <td>1.5265</td>  <td>0.1269</td> <td>-0.0025</td> <td>0.0204</td> \n",
              "</tr>\n",
              "<tr>\n",
              "  <th>delta10m</th>  <td>-0.0187</td>  <td>0.0041</td>  <td>-4.5487</td> <td>0.0000</td> <td>-0.0268</td> <td>-0.0107</td>\n",
              "</tr>\n",
              "</table>\n",
              "<table class=\"simpletable\">\n",
              "<tr>\n",
              "     <td>Omnibus:</td>    <td>11601.955</td>  <td>Durbin-Watson:</td>      <td>0.167</td>  \n",
              "</tr>\n",
              "<tr>\n",
              "  <td>Prob(Omnibus):</td>   <td>0.000</td>   <td>Jarque-Bera (JB):</td> <td>152837.613</td>\n",
              "</tr>\n",
              "<tr>\n",
              "       <td>Skew:</td>      <td>-0.217</td>       <td>Prob(JB):</td>        <td>0.000</td>  \n",
              "</tr>\n",
              "<tr>\n",
              "     <td>Kurtosis:</td>     <td>9.718</td>    <td>Condition No.:</td>        <td>9</td>    \n",
              "</tr>\n",
              "</table>"
            ],
            "text/plain": [
              "<class 'statsmodels.iolib.summary2.Summary'>\n",
              "\"\"\"\n",
              "                  Results: Ordinary least squares\n",
              "====================================================================\n",
              "Model:              OLS              Adj. R-squared:     0.009      \n",
              "Dependent Variable: pfmin            AIC:                151730.0499\n",
              "Date:               2020-12-05 22:29 BIC:                151767.2561\n",
              "No. Observations:   80947            Log-Likelihood:     -75861.    \n",
              "Df Model:           3                F-statistic:        246.2      \n",
              "Df Residuals:       80943            Prob (F-statistic): 4.53e-159  \n",
              "R-squared:          0.009            Scale:              0.38156    \n",
              "----------------------------------------------------------------------\n",
              "              Coef.    Std.Err.      t      P>|t|     [0.025    0.975]\n",
              "----------------------------------------------------------------------\n",
              "Intercept     0.0057     0.0022    2.6144   0.0089    0.0014    0.0099\n",
              "dev           0.4088     0.0154   26.5700   0.0000    0.3786    0.4389\n",
              "delta5m       0.0089     0.0058    1.5265   0.1269   -0.0025    0.0204\n",
              "delta10m     -0.0187     0.0041   -4.5487   0.0000   -0.0268   -0.0107\n",
              "--------------------------------------------------------------------\n",
              "Omnibus:            11601.955      Durbin-Watson:         0.167     \n",
              "Prob(Omnibus):      0.000          Jarque-Bera (JB):      152837.613\n",
              "Skew:               -0.217         Prob(JB):              0.000     \n",
              "Kurtosis:           9.718          Condition No.:         9         \n",
              "====================================================================\n",
              "\n",
              "\"\"\""
            ]
          },
          "metadata": {
            "tags": []
          },
          "execution_count": 283
        }
      ]
    },
    {
      "cell_type": "code",
      "metadata": {
        "id": "bljPO8a1dvip"
      },
      "source": [
        "import lightgbm as lgb\n",
        "from sklearn.model_selection import train_test_split"
      ],
      "execution_count": null,
      "outputs": []
    },
    {
      "cell_type": "code",
      "metadata": {
        "colab": {
          "base_uri": "https://localhost:8080/",
          "height": 35
        },
        "id": "1GtTWbFygyPm",
        "outputId": "5fcdbf97-91cf-42df-80fc-4248e037de37"
      },
      "source": [
        "df.columns[12]"
      ],
      "execution_count": null,
      "outputs": [
        {
          "output_type": "execute_result",
          "data": {
            "application/vnd.google.colaboratory.intrinsic+json": {
              "type": "string"
            },
            "text/plain": [
              "'pf15min'"
            ]
          },
          "metadata": {
            "tags": []
          },
          "execution_count": 249
        }
      ]
    },
    {
      "cell_type": "code",
      "metadata": {
        "id": "S1MNPdSpj9oX"
      },
      "source": [
        "df.drop(df.columns[0],axis=1, inplace=True)"
      ],
      "execution_count": null,
      "outputs": []
    },
    {
      "cell_type": "code",
      "metadata": {
        "id": "9oMvfNXcn69T"
      },
      "source": [
        "df.reset_index(inplace=True)\n",
        "label = df.pfmin\n",
        "data = df[df.columns[:-1]]"
      ],
      "execution_count": null,
      "outputs": []
    },
    {
      "cell_type": "code",
      "metadata": {
        "id": "3MRxbx2bqnhO"
      },
      "source": [
        "x=data.values\n",
        "y=label.values\n"
      ],
      "execution_count": null,
      "outputs": []
    },
    {
      "cell_type": "code",
      "metadata": {
        "colab": {
          "base_uri": "https://localhost:8080/"
        },
        "id": "a8bi-A1NrmYA",
        "outputId": "8488d995-09de-4e27-fe90-e2efbe07ce7d"
      },
      "source": [
        "params = {\n",
        "    'boosting_type': 'gbdt',\n",
        "    'objective': 'regression',\n",
        "    'metric': {'l2', 'l1'},\n",
        "    'num_leaves': 31,\n",
        "    'learning_rate': 0.05,\n",
        "    'feature_fraction': 0.9,\n",
        "    'bagging_fraction': 0.8,\n",
        "    'bagging_freq': 5,\n",
        "    'verbose': 1\n",
        "}\n",
        "\n",
        "x, x_test, y, y_test = train_test_split(x, y, test_size= 0.2, random_state=42)\n",
        "test_data = lgb.Dataset(x_test, y_test)\n",
        "\n",
        "model = lgb.train(params, train_set=train_dataset, valid_sets=test_data, verbose_eval=True)"
      ],
      "execution_count": 284,
      "outputs": [
        {
          "output_type": "stream",
          "text": [
            "[1]\tvalid_0's l1: 0.418289\tvalid_0's l2: 0.402081\n",
            "[2]\tvalid_0's l1: 0.417762\tvalid_0's l2: 0.4007\n",
            "[3]\tvalid_0's l1: 0.417365\tvalid_0's l2: 0.399542\n",
            "[4]\tvalid_0's l1: 0.416848\tvalid_0's l2: 0.398041\n",
            "[5]\tvalid_0's l1: 0.416525\tvalid_0's l2: 0.396648\n",
            "[6]\tvalid_0's l1: 0.41613\tvalid_0's l2: 0.395443\n",
            "[7]\tvalid_0's l1: 0.415805\tvalid_0's l2: 0.394371\n",
            "[8]\tvalid_0's l1: 0.415505\tvalid_0's l2: 0.393437\n",
            "[9]\tvalid_0's l1: 0.415191\tvalid_0's l2: 0.392133\n",
            "[10]\tvalid_0's l1: 0.414949\tvalid_0's l2: 0.391057\n",
            "[11]\tvalid_0's l1: 0.414621\tvalid_0's l2: 0.389843\n",
            "[12]\tvalid_0's l1: 0.414332\tvalid_0's l2: 0.388792\n",
            "[13]\tvalid_0's l1: 0.41406\tvalid_0's l2: 0.387937\n",
            "[14]\tvalid_0's l1: 0.413835\tvalid_0's l2: 0.387139\n",
            "[15]\tvalid_0's l1: 0.413653\tvalid_0's l2: 0.386486\n",
            "[16]\tvalid_0's l1: 0.413279\tvalid_0's l2: 0.38499\n",
            "[17]\tvalid_0's l1: 0.413005\tvalid_0's l2: 0.383985\n",
            "[18]\tvalid_0's l1: 0.412748\tvalid_0's l2: 0.383245\n",
            "[19]\tvalid_0's l1: 0.412449\tvalid_0's l2: 0.38206\n",
            "[20]\tvalid_0's l1: 0.412156\tvalid_0's l2: 0.381341\n",
            "[21]\tvalid_0's l1: 0.411929\tvalid_0's l2: 0.380777\n",
            "[22]\tvalid_0's l1: 0.411554\tvalid_0's l2: 0.379527\n",
            "[23]\tvalid_0's l1: 0.411249\tvalid_0's l2: 0.378544\n",
            "[24]\tvalid_0's l1: 0.410925\tvalid_0's l2: 0.377497\n",
            "[25]\tvalid_0's l1: 0.410552\tvalid_0's l2: 0.376147\n",
            "[26]\tvalid_0's l1: 0.410307\tvalid_0's l2: 0.375447\n",
            "[27]\tvalid_0's l1: 0.410087\tvalid_0's l2: 0.374807\n",
            "[28]\tvalid_0's l1: 0.409731\tvalid_0's l2: 0.373562\n",
            "[29]\tvalid_0's l1: 0.409399\tvalid_0's l2: 0.372665\n",
            "[30]\tvalid_0's l1: 0.40909\tvalid_0's l2: 0.371852\n",
            "[31]\tvalid_0's l1: 0.408922\tvalid_0's l2: 0.371329\n",
            "[32]\tvalid_0's l1: 0.408631\tvalid_0's l2: 0.370664\n",
            "[33]\tvalid_0's l1: 0.408393\tvalid_0's l2: 0.370051\n",
            "[34]\tvalid_0's l1: 0.408084\tvalid_0's l2: 0.369416\n",
            "[35]\tvalid_0's l1: 0.407885\tvalid_0's l2: 0.368644\n",
            "[36]\tvalid_0's l1: 0.407701\tvalid_0's l2: 0.367877\n",
            "[37]\tvalid_0's l1: 0.40741\tvalid_0's l2: 0.366934\n",
            "[38]\tvalid_0's l1: 0.407193\tvalid_0's l2: 0.366199\n",
            "[39]\tvalid_0's l1: 0.40691\tvalid_0's l2: 0.36529\n",
            "[40]\tvalid_0's l1: 0.406745\tvalid_0's l2: 0.364891\n",
            "[41]\tvalid_0's l1: 0.406544\tvalid_0's l2: 0.364288\n",
            "[42]\tvalid_0's l1: 0.406156\tvalid_0's l2: 0.363234\n",
            "[43]\tvalid_0's l1: 0.40594\tvalid_0's l2: 0.362598\n",
            "[44]\tvalid_0's l1: 0.405662\tvalid_0's l2: 0.361922\n",
            "[45]\tvalid_0's l1: 0.405439\tvalid_0's l2: 0.361358\n",
            "[46]\tvalid_0's l1: 0.405198\tvalid_0's l2: 0.360841\n",
            "[47]\tvalid_0's l1: 0.404866\tvalid_0's l2: 0.360053\n",
            "[48]\tvalid_0's l1: 0.404723\tvalid_0's l2: 0.359705\n",
            "[49]\tvalid_0's l1: 0.404389\tvalid_0's l2: 0.358535\n",
            "[50]\tvalid_0's l1: 0.4042\tvalid_0's l2: 0.357974\n",
            "[51]\tvalid_0's l1: 0.403963\tvalid_0's l2: 0.357455\n",
            "[52]\tvalid_0's l1: 0.403795\tvalid_0's l2: 0.356995\n",
            "[53]\tvalid_0's l1: 0.403624\tvalid_0's l2: 0.356509\n",
            "[54]\tvalid_0's l1: 0.403447\tvalid_0's l2: 0.356058\n",
            "[55]\tvalid_0's l1: 0.403248\tvalid_0's l2: 0.355556\n",
            "[56]\tvalid_0's l1: 0.402945\tvalid_0's l2: 0.35475\n",
            "[57]\tvalid_0's l1: 0.402732\tvalid_0's l2: 0.354204\n",
            "[58]\tvalid_0's l1: 0.402447\tvalid_0's l2: 0.353442\n",
            "[59]\tvalid_0's l1: 0.402254\tvalid_0's l2: 0.352896\n",
            "[60]\tvalid_0's l1: 0.402013\tvalid_0's l2: 0.352277\n",
            "[61]\tvalid_0's l1: 0.401851\tvalid_0's l2: 0.351857\n",
            "[62]\tvalid_0's l1: 0.401656\tvalid_0's l2: 0.351444\n",
            "[63]\tvalid_0's l1: 0.401499\tvalid_0's l2: 0.351088\n",
            "[64]\tvalid_0's l1: 0.401283\tvalid_0's l2: 0.350671\n",
            "[65]\tvalid_0's l1: 0.40116\tvalid_0's l2: 0.350412\n",
            "[66]\tvalid_0's l1: 0.400906\tvalid_0's l2: 0.349809\n",
            "[67]\tvalid_0's l1: 0.400693\tvalid_0's l2: 0.349252\n",
            "[68]\tvalid_0's l1: 0.400468\tvalid_0's l2: 0.348808\n",
            "[69]\tvalid_0's l1: 0.40024\tvalid_0's l2: 0.348298\n",
            "[70]\tvalid_0's l1: 0.400053\tvalid_0's l2: 0.347893\n",
            "[71]\tvalid_0's l1: 0.399891\tvalid_0's l2: 0.347426\n",
            "[72]\tvalid_0's l1: 0.399658\tvalid_0's l2: 0.346745\n",
            "[73]\tvalid_0's l1: 0.399415\tvalid_0's l2: 0.345947\n",
            "[74]\tvalid_0's l1: 0.399227\tvalid_0's l2: 0.345526\n",
            "[75]\tvalid_0's l1: 0.398986\tvalid_0's l2: 0.344926\n",
            "[76]\tvalid_0's l1: 0.398758\tvalid_0's l2: 0.344489\n",
            "[77]\tvalid_0's l1: 0.398561\tvalid_0's l2: 0.34413\n",
            "[78]\tvalid_0's l1: 0.398417\tvalid_0's l2: 0.343827\n",
            "[79]\tvalid_0's l1: 0.398223\tvalid_0's l2: 0.343419\n",
            "[80]\tvalid_0's l1: 0.397864\tvalid_0's l2: 0.342734\n",
            "[81]\tvalid_0's l1: 0.39762\tvalid_0's l2: 0.342249\n",
            "[82]\tvalid_0's l1: 0.397423\tvalid_0's l2: 0.341692\n",
            "[83]\tvalid_0's l1: 0.397234\tvalid_0's l2: 0.341251\n",
            "[84]\tvalid_0's l1: 0.397031\tvalid_0's l2: 0.340845\n",
            "[85]\tvalid_0's l1: 0.396884\tvalid_0's l2: 0.340492\n",
            "[86]\tvalid_0's l1: 0.396689\tvalid_0's l2: 0.340128\n",
            "[87]\tvalid_0's l1: 0.396443\tvalid_0's l2: 0.339369\n",
            "[88]\tvalid_0's l1: 0.396356\tvalid_0's l2: 0.339192\n",
            "[89]\tvalid_0's l1: 0.396222\tvalid_0's l2: 0.338837\n",
            "[90]\tvalid_0's l1: 0.395859\tvalid_0's l2: 0.337962\n",
            "[91]\tvalid_0's l1: 0.395629\tvalid_0's l2: 0.337378\n",
            "[92]\tvalid_0's l1: 0.395457\tvalid_0's l2: 0.337024\n",
            "[93]\tvalid_0's l1: 0.395197\tvalid_0's l2: 0.336579\n",
            "[94]\tvalid_0's l1: 0.395014\tvalid_0's l2: 0.336114\n",
            "[95]\tvalid_0's l1: 0.394813\tvalid_0's l2: 0.335774\n",
            "[96]\tvalid_0's l1: 0.394675\tvalid_0's l2: 0.33555\n",
            "[97]\tvalid_0's l1: 0.394399\tvalid_0's l2: 0.334933\n",
            "[98]\tvalid_0's l1: 0.394249\tvalid_0's l2: 0.334627\n",
            "[99]\tvalid_0's l1: 0.394005\tvalid_0's l2: 0.334026\n",
            "[100]\tvalid_0's l1: 0.39384\tvalid_0's l2: 0.333791\n"
          ],
          "name": "stdout"
        }
      ]
    },
    {
      "cell_type": "code",
      "metadata": {
        "colab": {
          "base_uri": "https://localhost:8080/"
        },
        "id": "3MDEVjh0DGy9",
        "outputId": "822bc099-d456-4e97-a88d-94932fb76ec4"
      },
      "source": [
        "model.save_model(\"lgm_20201205.lgm\")"
      ],
      "execution_count": 288,
      "outputs": [
        {
          "output_type": "execute_result",
          "data": {
            "text/plain": [
              "<lightgbm.basic.Booster at 0x7f57d33a1978>"
            ]
          },
          "metadata": {
            "tags": []
          },
          "execution_count": 288
        }
      ]
    },
    {
      "cell_type": "code",
      "metadata": {
        "colab": {
          "base_uri": "https://localhost:8080/",
          "height": 35
        },
        "id": "0O2BFM6B2Ckk",
        "outputId": "c7f62fc9-f2b3-4505-fc26-4d835d52f8f1"
      },
      "source": [
        "\"{0:.2f}%\".format(100*df.pfmin[ abs(df.pfmin)< 1].shape[0]/df.shape[0])"
      ],
      "execution_count": null,
      "outputs": [
        {
          "output_type": "execute_result",
          "data": {
            "application/vnd.google.colaboratory.intrinsic+json": {
              "type": "string"
            },
            "text/plain": [
              "'94.24%'"
            ]
          },
          "metadata": {
            "tags": []
          },
          "execution_count": 59
        }
      ]
    },
    {
      "cell_type": "code",
      "metadata": {
        "id": "YRT8Xu_fkqU0"
      },
      "source": [
        "fig, ax = plt.subplots(figsize=a4_dims)\n",
        "sns.kdeplot(df.mu10min, shade=True, vertical=True, color=\"red\")"
      ],
      "execution_count": null,
      "outputs": []
    },
    {
      "cell_type": "code",
      "metadata": {
        "id": "TrGYH27zCbjU"
      },
      "source": [
        ""
      ],
      "execution_count": null,
      "outputs": []
    }
  ]
}